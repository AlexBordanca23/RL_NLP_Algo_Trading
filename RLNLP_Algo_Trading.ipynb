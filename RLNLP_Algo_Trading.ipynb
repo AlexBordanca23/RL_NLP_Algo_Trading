{
 "cells": [
  {
   "cell_type": "code",
   "execution_count": 1,
   "metadata": {
    "colab": {
     "base_uri": "https://localhost:8080/"
    },
    "id": "mPT0ipYE28wL",
    "outputId": "4a130fa7-6727-4a17-89ba-855191887f81"
   },
   "outputs": [
    {
     "name": "stdout",
     "output_type": "stream",
     "text": [
      "Collecting git+https://github.com/AI4Finance-LLC/FinRL-Library.git\n",
      "  Cloning https://github.com/AI4Finance-LLC/FinRL-Library.git to /private/var/folders/sx/889jdz09109dzlhy65xnx_6m0000gn/T/pip-req-build-2z1cnge4\n",
      "  Running command git clone -q https://github.com/AI4Finance-LLC/FinRL-Library.git /private/var/folders/sx/889jdz09109dzlhy65xnx_6m0000gn/T/pip-req-build-2z1cnge4\n",
      "Requirement already satisfied (use --upgrade to upgrade): finrl==0.3.0 from git+https://github.com/AI4Finance-LLC/FinRL-Library.git in ./opt/anaconda3/lib/python3.7/site-packages\n",
      "Requirement already satisfied: numpy in ./opt/anaconda3/lib/python3.7/site-packages (from finrl==0.3.0) (1.18.1)\n",
      "Requirement already satisfied: pandas>=1.1.5 in ./opt/anaconda3/lib/python3.7/site-packages (from finrl==0.3.0) (1.2.4)\n",
      "Requirement already satisfied: stockstats in ./opt/anaconda3/lib/python3.7/site-packages (from finrl==0.3.0) (0.3.2)\n",
      "Requirement already satisfied: yfinance in ./opt/anaconda3/lib/python3.7/site-packages (from finrl==0.3.0) (0.1.59)\n",
      "Requirement already satisfied: matplotlib in ./opt/anaconda3/lib/python3.7/site-packages (from finrl==0.3.0) (3.1.3)\n",
      "Requirement already satisfied: scikit-learn>=0.21.0 in ./opt/anaconda3/lib/python3.7/site-packages (from finrl==0.3.0) (0.22.1)\n",
      "Requirement already satisfied: gym>=0.17 in ./opt/anaconda3/lib/python3.7/site-packages (from finrl==0.3.0) (0.18.0)\n",
      "Requirement already satisfied: stable-baselines3[extra] in ./opt/anaconda3/lib/python3.7/site-packages (from finrl==0.3.0) (1.0)\n",
      "Requirement already satisfied: pytest in ./opt/anaconda3/lib/python3.7/site-packages (from finrl==0.3.0) (5.3.5)\n",
      "Requirement already satisfied: setuptools>=41.4.0 in ./opt/anaconda3/lib/python3.7/site-packages (from finrl==0.3.0) (46.0.0.post20200309)\n",
      "Requirement already satisfied: wheel>=0.33.6 in ./opt/anaconda3/lib/python3.7/site-packages (from finrl==0.3.0) (0.34.2)\n",
      "Requirement already satisfied: pyfolio@ git+https://github.com/quantopian/pyfolio.git#egg=pyfolio-0.9.2 from git+https://github.com/quantopian/pyfolio.git#egg=pyfolio-0.9.2 in ./opt/anaconda3/lib/python3.7/site-packages (from finrl==0.3.0) (0.9.2+75.g4b901f6)\n",
      "Requirement already satisfied: pytz>=2017.3 in ./opt/anaconda3/lib/python3.7/site-packages (from pandas>=1.1.5->finrl==0.3.0) (2019.3)\n",
      "Requirement already satisfied: python-dateutil>=2.7.3 in ./opt/anaconda3/lib/python3.7/site-packages (from pandas>=1.1.5->finrl==0.3.0) (2.8.1)\n",
      "Requirement already satisfied: int-date>=0.1.7 in ./opt/anaconda3/lib/python3.7/site-packages (from stockstats->finrl==0.3.0) (0.1.8)\n",
      "Requirement already satisfied: requests>=2.20 in ./opt/anaconda3/lib/python3.7/site-packages (from yfinance->finrl==0.3.0) (2.22.0)\n",
      "Requirement already satisfied: lxml>=4.5.1 in ./opt/anaconda3/lib/python3.7/site-packages (from yfinance->finrl==0.3.0) (4.6.3)\n",
      "Requirement already satisfied: multitasking>=0.0.7 in ./opt/anaconda3/lib/python3.7/site-packages (from yfinance->finrl==0.3.0) (0.0.9)\n",
      "Requirement already satisfied: cycler>=0.10 in ./opt/anaconda3/lib/python3.7/site-packages (from matplotlib->finrl==0.3.0) (0.10.0)\n",
      "Requirement already satisfied: pyparsing!=2.0.4,!=2.1.2,!=2.1.6,>=2.0.1 in ./opt/anaconda3/lib/python3.7/site-packages (from matplotlib->finrl==0.3.0) (2.4.6)\n",
      "Requirement already satisfied: kiwisolver>=1.0.1 in ./opt/anaconda3/lib/python3.7/site-packages (from matplotlib->finrl==0.3.0) (1.1.0)\n",
      "Requirement already satisfied: joblib>=0.11 in ./opt/anaconda3/lib/python3.7/site-packages (from scikit-learn>=0.21.0->finrl==0.3.0) (0.14.1)\n",
      "Requirement already satisfied: scipy>=0.17.0 in ./opt/anaconda3/lib/python3.7/site-packages (from scikit-learn>=0.21.0->finrl==0.3.0) (1.4.1)\n",
      "Requirement already satisfied: cloudpickle<1.7.0,>=1.2.0 in ./opt/anaconda3/lib/python3.7/site-packages (from gym>=0.17->finrl==0.3.0) (1.3.0)\n",
      "Requirement already satisfied: pyglet<=1.5.0,>=1.4.0 in ./opt/anaconda3/lib/python3.7/site-packages (from gym>=0.17->finrl==0.3.0) (1.5.0)\n",
      "Requirement already satisfied: Pillow<=7.2.0 in ./opt/anaconda3/lib/python3.7/site-packages (from gym>=0.17->finrl==0.3.0) (7.0.0)\n",
      "Requirement already satisfied: torch>=1.4.0 in ./opt/anaconda3/lib/python3.7/site-packages (from stable-baselines3[extra]->finrl==0.3.0) (1.8.1)\n",
      "Requirement already satisfied: psutil; extra == \"extra\" in ./opt/anaconda3/lib/python3.7/site-packages (from stable-baselines3[extra]->finrl==0.3.0) (5.6.7)\n",
      "Requirement already satisfied: opencv-python; extra == \"extra\" in ./opt/anaconda3/lib/python3.7/site-packages (from stable-baselines3[extra]->finrl==0.3.0) (4.5.1.48)\n",
      "Requirement already satisfied: tensorboard>=2.2.0; extra == \"extra\" in ./opt/anaconda3/lib/python3.7/site-packages (from stable-baselines3[extra]->finrl==0.3.0) (2.5.0)\n",
      "Requirement already satisfied: atari-py~=0.2.0; extra == \"extra\" in ./opt/anaconda3/lib/python3.7/site-packages (from stable-baselines3[extra]->finrl==0.3.0) (0.2.6)\n",
      "Requirement already satisfied: py>=1.5.0 in ./opt/anaconda3/lib/python3.7/site-packages (from pytest->finrl==0.3.0) (1.8.1)\n",
      "Requirement already satisfied: packaging in ./opt/anaconda3/lib/python3.7/site-packages (from pytest->finrl==0.3.0) (20.1)\n",
      "Requirement already satisfied: attrs>=17.4.0 in ./opt/anaconda3/lib/python3.7/site-packages (from pytest->finrl==0.3.0) (19.3.0)\n",
      "Requirement already satisfied: more-itertools>=4.0.0 in ./opt/anaconda3/lib/python3.7/site-packages (from pytest->finrl==0.3.0) (8.2.0)\n",
      "Requirement already satisfied: pluggy<1.0,>=0.12 in ./opt/anaconda3/lib/python3.7/site-packages (from pytest->finrl==0.3.0) (0.13.1)\n",
      "Requirement already satisfied: wcwidth in ./opt/anaconda3/lib/python3.7/site-packages (from pytest->finrl==0.3.0) (0.1.8)\n",
      "Requirement already satisfied: importlib-metadata>=0.12 in ./opt/anaconda3/lib/python3.7/site-packages (from pytest->finrl==0.3.0) (1.5.0)\n",
      "Requirement already satisfied: empyrical>=0.5.0 in ./opt/anaconda3/lib/python3.7/site-packages (from pyfolio@ git+https://github.com/quantopian/pyfolio.git#egg=pyfolio-0.9.2->finrl==0.3.0) (0.5.5)\n",
      "Requirement already satisfied: seaborn>=0.7.1 in ./opt/anaconda3/lib/python3.7/site-packages (from pyfolio@ git+https://github.com/quantopian/pyfolio.git#egg=pyfolio-0.9.2->finrl==0.3.0) (0.10.0)\n",
      "Requirement already satisfied: ipython>=3.2.3 in ./opt/anaconda3/lib/python3.7/site-packages (from pyfolio@ git+https://github.com/quantopian/pyfolio.git#egg=pyfolio-0.9.2->finrl==0.3.0) (7.12.0)\n",
      "Requirement already satisfied: six>=1.5 in ./opt/anaconda3/lib/python3.7/site-packages (from python-dateutil>=2.7.3->pandas>=1.1.5->finrl==0.3.0) (1.14.0)\n",
      "Requirement already satisfied: chardet<3.1.0,>=3.0.2 in ./opt/anaconda3/lib/python3.7/site-packages (from requests>=2.20->yfinance->finrl==0.3.0) (3.0.4)\n",
      "Requirement already satisfied: urllib3!=1.25.0,!=1.25.1,<1.26,>=1.21.1 in ./opt/anaconda3/lib/python3.7/site-packages (from requests>=2.20->yfinance->finrl==0.3.0) (1.25.8)\n",
      "Requirement already satisfied: certifi>=2017.4.17 in ./opt/anaconda3/lib/python3.7/site-packages (from requests>=2.20->yfinance->finrl==0.3.0) (2019.11.28)\n",
      "Requirement already satisfied: idna<2.9,>=2.5 in ./opt/anaconda3/lib/python3.7/site-packages (from requests>=2.20->yfinance->finrl==0.3.0) (2.8)\n",
      "Requirement already satisfied: future in ./opt/anaconda3/lib/python3.7/site-packages (from pyglet<=1.5.0,>=1.4.0->gym>=0.17->finrl==0.3.0) (0.18.2)\n",
      "Requirement already satisfied: typing-extensions in ./opt/anaconda3/lib/python3.7/site-packages (from torch>=1.4.0->stable-baselines3[extra]->finrl==0.3.0) (3.10.0.0)\n",
      "Requirement already satisfied: markdown>=2.6.8 in ./opt/anaconda3/lib/python3.7/site-packages (from tensorboard>=2.2.0; extra == \"extra\"->stable-baselines3[extra]->finrl==0.3.0) (3.3.4)\n",
      "Requirement already satisfied: protobuf>=3.6.0 in ./opt/anaconda3/lib/python3.7/site-packages (from tensorboard>=2.2.0; extra == \"extra\"->stable-baselines3[extra]->finrl==0.3.0) (3.15.8)\n",
      "Requirement already satisfied: absl-py>=0.4 in ./opt/anaconda3/lib/python3.7/site-packages (from tensorboard>=2.2.0; extra == \"extra\"->stable-baselines3[extra]->finrl==0.3.0) (0.12.0)\n",
      "Requirement already satisfied: google-auth<2,>=1.6.3 in ./opt/anaconda3/lib/python3.7/site-packages (from tensorboard>=2.2.0; extra == \"extra\"->stable-baselines3[extra]->finrl==0.3.0) (1.30.0)\n",
      "Requirement already satisfied: grpcio>=1.24.3 in ./opt/anaconda3/lib/python3.7/site-packages (from tensorboard>=2.2.0; extra == \"extra\"->stable-baselines3[extra]->finrl==0.3.0) (1.37.1)\n",
      "Requirement already satisfied: google-auth-oauthlib<0.5,>=0.4.1 in ./opt/anaconda3/lib/python3.7/site-packages (from tensorboard>=2.2.0; extra == \"extra\"->stable-baselines3[extra]->finrl==0.3.0) (0.4.4)\n",
      "Requirement already satisfied: tensorboard-data-server<0.7.0,>=0.6.0 in ./opt/anaconda3/lib/python3.7/site-packages (from tensorboard>=2.2.0; extra == \"extra\"->stable-baselines3[extra]->finrl==0.3.0) (0.6.0)\n",
      "Requirement already satisfied: tensorboard-plugin-wit>=1.6.0 in ./opt/anaconda3/lib/python3.7/site-packages (from tensorboard>=2.2.0; extra == \"extra\"->stable-baselines3[extra]->finrl==0.3.0) (1.8.0)\n",
      "Requirement already satisfied: werkzeug>=0.11.15 in ./opt/anaconda3/lib/python3.7/site-packages (from tensorboard>=2.2.0; extra == \"extra\"->stable-baselines3[extra]->finrl==0.3.0) (1.0.0)\n"
     ]
    },
    {
     "name": "stdout",
     "output_type": "stream",
     "text": [
      "Requirement already satisfied: zipp>=0.5 in ./opt/anaconda3/lib/python3.7/site-packages (from importlib-metadata>=0.12->pytest->finrl==0.3.0) (2.2.0)\n",
      "Requirement already satisfied: pandas-datareader>=0.2 in ./opt/anaconda3/lib/python3.7/site-packages (from empyrical>=0.5.0->pyfolio@ git+https://github.com/quantopian/pyfolio.git#egg=pyfolio-0.9.2->finrl==0.3.0) (0.9.0)\n",
      "Requirement already satisfied: decorator in ./opt/anaconda3/lib/python3.7/site-packages (from ipython>=3.2.3->pyfolio@ git+https://github.com/quantopian/pyfolio.git#egg=pyfolio-0.9.2->finrl==0.3.0) (4.4.1)\n",
      "Requirement already satisfied: jedi>=0.10 in ./opt/anaconda3/lib/python3.7/site-packages (from ipython>=3.2.3->pyfolio@ git+https://github.com/quantopian/pyfolio.git#egg=pyfolio-0.9.2->finrl==0.3.0) (0.14.1)\n",
      "Requirement already satisfied: pickleshare in ./opt/anaconda3/lib/python3.7/site-packages (from ipython>=3.2.3->pyfolio@ git+https://github.com/quantopian/pyfolio.git#egg=pyfolio-0.9.2->finrl==0.3.0) (0.7.5)\n",
      "Requirement already satisfied: pexpect; sys_platform != \"win32\" in ./opt/anaconda3/lib/python3.7/site-packages (from ipython>=3.2.3->pyfolio@ git+https://github.com/quantopian/pyfolio.git#egg=pyfolio-0.9.2->finrl==0.3.0) (4.8.0)\n",
      "Requirement already satisfied: pygments in ./opt/anaconda3/lib/python3.7/site-packages (from ipython>=3.2.3->pyfolio@ git+https://github.com/quantopian/pyfolio.git#egg=pyfolio-0.9.2->finrl==0.3.0) (2.5.2)\n",
      "Requirement already satisfied: backcall in ./opt/anaconda3/lib/python3.7/site-packages (from ipython>=3.2.3->pyfolio@ git+https://github.com/quantopian/pyfolio.git#egg=pyfolio-0.9.2->finrl==0.3.0) (0.1.0)\n",
      "Requirement already satisfied: appnope; sys_platform == \"darwin\" in ./opt/anaconda3/lib/python3.7/site-packages (from ipython>=3.2.3->pyfolio@ git+https://github.com/quantopian/pyfolio.git#egg=pyfolio-0.9.2->finrl==0.3.0) (0.1.0)\n",
      "Requirement already satisfied: traitlets>=4.2 in ./opt/anaconda3/lib/python3.7/site-packages (from ipython>=3.2.3->pyfolio@ git+https://github.com/quantopian/pyfolio.git#egg=pyfolio-0.9.2->finrl==0.3.0) (4.3.3)\n",
      "Requirement already satisfied: prompt-toolkit!=3.0.0,!=3.0.1,<3.1.0,>=2.0.0 in ./opt/anaconda3/lib/python3.7/site-packages (from ipython>=3.2.3->pyfolio@ git+https://github.com/quantopian/pyfolio.git#egg=pyfolio-0.9.2->finrl==0.3.0) (3.0.3)\n",
      "Requirement already satisfied: cachetools<5.0,>=2.0.0 in ./opt/anaconda3/lib/python3.7/site-packages (from google-auth<2,>=1.6.3->tensorboard>=2.2.0; extra == \"extra\"->stable-baselines3[extra]->finrl==0.3.0) (4.2.2)\n",
      "Requirement already satisfied: pyasn1-modules>=0.2.1 in ./opt/anaconda3/lib/python3.7/site-packages (from google-auth<2,>=1.6.3->tensorboard>=2.2.0; extra == \"extra\"->stable-baselines3[extra]->finrl==0.3.0) (0.2.8)\n",
      "Requirement already satisfied: rsa<5,>=3.1.4; python_version >= \"3.6\" in ./opt/anaconda3/lib/python3.7/site-packages (from google-auth<2,>=1.6.3->tensorboard>=2.2.0; extra == \"extra\"->stable-baselines3[extra]->finrl==0.3.0) (4.7.2)\n",
      "Requirement already satisfied: requests-oauthlib>=0.7.0 in ./opt/anaconda3/lib/python3.7/site-packages (from google-auth-oauthlib<0.5,>=0.4.1->tensorboard>=2.2.0; extra == \"extra\"->stable-baselines3[extra]->finrl==0.3.0) (1.3.0)\n",
      "Requirement already satisfied: parso>=0.5.0 in ./opt/anaconda3/lib/python3.7/site-packages (from jedi>=0.10->ipython>=3.2.3->pyfolio@ git+https://github.com/quantopian/pyfolio.git#egg=pyfolio-0.9.2->finrl==0.3.0) (0.5.2)\n",
      "Requirement already satisfied: ptyprocess>=0.5 in ./opt/anaconda3/lib/python3.7/site-packages (from pexpect; sys_platform != \"win32\"->ipython>=3.2.3->pyfolio@ git+https://github.com/quantopian/pyfolio.git#egg=pyfolio-0.9.2->finrl==0.3.0) (0.6.0)\n",
      "Requirement already satisfied: ipython-genutils in ./opt/anaconda3/lib/python3.7/site-packages (from traitlets>=4.2->ipython>=3.2.3->pyfolio@ git+https://github.com/quantopian/pyfolio.git#egg=pyfolio-0.9.2->finrl==0.3.0) (0.2.0)\n",
      "Requirement already satisfied: pyasn1<0.5.0,>=0.4.6 in ./opt/anaconda3/lib/python3.7/site-packages (from pyasn1-modules>=0.2.1->google-auth<2,>=1.6.3->tensorboard>=2.2.0; extra == \"extra\"->stable-baselines3[extra]->finrl==0.3.0) (0.4.8)\n",
      "Requirement already satisfied: oauthlib>=3.0.0 in ./opt/anaconda3/lib/python3.7/site-packages (from requests-oauthlib>=0.7.0->google-auth-oauthlib<0.5,>=0.4.1->tensorboard>=2.2.0; extra == \"extra\"->stable-baselines3[extra]->finrl==0.3.0) (3.1.0)\n",
      "Building wheels for collected packages: finrl\n",
      "  Building wheel for finrl (setup.py) ... \u001b[?25ldone\n",
      "\u001b[?25h  Created wheel for finrl: filename=finrl-0.3.0-py3-none-any.whl size=38392 sha256=00e16450945e6173232c9806ac53f0e68085a1f0854c920351406ddc1d34196c\n",
      "  Stored in directory: /private/var/folders/sx/889jdz09109dzlhy65xnx_6m0000gn/T/pip-ephem-wheel-cache-ptf5m6_x/wheels/17/ff/bd/1bc602a0352762b0b24041b88536d803ae343ed0a711fcf55e\n",
      "Successfully built finrl\n"
     ]
    }
   ],
   "source": [
    "## install finrl library\n",
    "!pip install git+https://github.com/AI4Finance-LLC/FinRL-Library.git"
   ]
  },
  {
   "cell_type": "code",
   "execution_count": 2,
   "metadata": {
    "colab": {
     "base_uri": "https://localhost:8080/"
    },
    "id": "lPqeTTwoh1hn",
    "outputId": "b5fdebb3-b7d0-4fe6-b993-fc4c1efc51ff"
   },
   "outputs": [
    {
     "name": "stderr",
     "output_type": "stream",
     "text": [
      "/Users/alexandrubordanca/opt/anaconda3/lib/python3.7/site-packages/pyfolio/pos.py:27: UserWarning: Module \"zipline.assets\" not found; multipliers will not be applied to position notionals.\n",
      "  'Module \"zipline.assets\" not found; multipliers will not be applied'\n"
     ]
    }
   ],
   "source": [
    "import pandas as pd\n",
    "import numpy as np\n",
    "import matplotlib\n",
    "import matplotlib.pyplot as plt\n",
    "# matplotlib.use('Agg')\n",
    "import datetime\n",
    "\n",
    "%matplotlib inline\n",
    "from finrl.config import config\n",
    "from finrl.marketdata.yahoodownloader import YahooDownloader\n",
    "from finrl.preprocessing.preprocessors import FeatureEngineer\n",
    "from finrl.preprocessing.data import data_split\n",
    "from finrl.env.env_stocktrading import StockTradingEnv\n",
    "\n",
    "from finrl.model.models import DRLAgent\n",
    "from finrl.trade.backtest import backtest_stats, backtest_plot, get_daily_return, get_baseline\n",
    "\n",
    "from pprint import pprint\n",
    "\n",
    "import sys\n",
    "sys.path.append(\"../FinRL-Library\")\n",
    "\n",
    "import itertools"
   ]
  },
  {
   "cell_type": "code",
   "execution_count": 3,
   "metadata": {
    "id": "w9A8CN5R5PuZ"
   },
   "outputs": [],
   "source": [
    "import os\n",
    "if not os.path.exists(\"./\" + config.DATA_SAVE_DIR):\n",
    "    os.makedirs(\"./\" + config.DATA_SAVE_DIR)\n",
    "if not os.path.exists(\"./\" + config.TRAINED_MODEL_DIR):\n",
    "    os.makedirs(\"./\" + config.TRAINED_MODEL_DIR)\n",
    "if not os.path.exists(\"./\" + config.TENSORBOARD_LOG_DIR):\n",
    "    os.makedirs(\"./\" + config.TENSORBOARD_LOG_DIR)\n",
    "if not os.path.exists(\"./\" + config.RESULTS_DIR):\n",
    "    os.makedirs(\"./\" + config.RESULTS_DIR)"
   ]
  },
  {
   "cell_type": "code",
   "execution_count": 4,
   "metadata": {
    "colab": {
     "base_uri": "https://localhost:8080/",
     "height": 35
    },
    "id": "h3XJnvrbLp-C",
    "outputId": "90ad1901-fda9-46f8-80f6-083cd8d6293a"
   },
   "outputs": [
    {
     "data": {
      "text/plain": [
       "'2000-01-01'"
      ]
     },
     "execution_count": 4,
     "metadata": {},
     "output_type": "execute_result"
    }
   ],
   "source": [
    "# from config.py start_date is a string\n",
    "config.START_DATE"
   ]
  },
  {
   "cell_type": "code",
   "execution_count": 5,
   "metadata": {
    "colab": {
     "base_uri": "https://localhost:8080/",
     "height": 35
    },
    "id": "FUnY8WEfLq3C",
    "outputId": "9bd12370-a5e9-4eb3-bc2a-d0d0610f14f7"
   },
   "outputs": [
    {
     "data": {
      "text/plain": [
       "'2021-04-01'"
      ]
     },
     "execution_count": 5,
     "metadata": {},
     "output_type": "execute_result"
    }
   ],
   "source": [
    "# from config.py end_date is a string\n",
    "config.END_DATE = '2021-04-01'\n",
    "config.END_DATE\n"
   ]
  },
  {
   "cell_type": "code",
   "execution_count": 6,
   "metadata": {
    "colab": {
     "base_uri": "https://localhost:8080/"
    },
    "id": "JzqRRTOX6aFu",
    "outputId": "8acb257f-171e-4069-8ed3-1e7311ffecc2"
   },
   "outputs": [
    {
     "name": "stdout",
     "output_type": "stream",
     "text": [
      "['AAPL', 'MSFT', 'JPM', 'V', 'RTX', 'PG', 'GS', 'NKE', 'DIS', 'AXP', 'HD', 'INTC', 'WMT', 'IBM', 'MRK', 'UNH', 'KO', 'CAT', 'TRV', 'JNJ', 'CVX', 'MCD', 'VZ', 'CSCO', 'XOM', 'BA', 'MMM', 'PFE', 'WBA', 'DD']\n"
     ]
    }
   ],
   "source": [
    "print(config.DOW_30_TICKER)"
   ]
  },
  {
   "cell_type": "code",
   "execution_count": 7,
   "metadata": {
    "colab": {
     "base_uri": "https://localhost:8080/"
    },
    "id": "yCKm4om-s9kE",
    "outputId": "2ba50005-317e-4fa0-d31a-70705b58d88a"
   },
   "outputs": [
    {
     "name": "stdout",
     "output_type": "stream",
     "text": [
      "[*********************100%***********************]  1 of 1 completed\n",
      "[*********************100%***********************]  1 of 1 completed\n",
      "[*********************100%***********************]  1 of 1 completed\n",
      "Shape of DataFrame:  (5335, 8)\n"
     ]
    }
   ],
   "source": [
    "df = YahooDownloader(start_date = '2009-01-01',\n",
    "                     end_date = '2021-04-01',\n",
    "                     ticker_list = ['GME','AMC','SNDL']).fetch_data()"
   ]
  },
  {
   "cell_type": "code",
   "execution_count": 8,
   "metadata": {
    "colab": {
     "base_uri": "https://localhost:8080/"
    },
    "id": "CV3HrZHLh1hy",
    "outputId": "a0fc1d82-5e09-4ddc-b624-24f304db7f79"
   },
   "outputs": [
    {
     "data": {
      "text/plain": [
       "(5335, 8)"
      ]
     },
     "execution_count": 8,
     "metadata": {},
     "output_type": "execute_result"
    }
   ],
   "source": [
    "df.shape"
   ]
  },
  {
   "cell_type": "code",
   "execution_count": 9,
   "metadata": {
    "colab": {
     "base_uri": "https://localhost:8080/",
     "height": 204
    },
    "collapsed": true,
    "id": "4hYkeaPiICHS",
    "outputId": "45c1f6a6-d7ef-4278-f0a6-1182f4c02189"
   },
   "outputs": [
    {
     "data": {
      "text/html": [
       "<div>\n",
       "<style scoped>\n",
       "    .dataframe tbody tr th:only-of-type {\n",
       "        vertical-align: middle;\n",
       "    }\n",
       "\n",
       "    .dataframe tbody tr th {\n",
       "        vertical-align: top;\n",
       "    }\n",
       "\n",
       "    .dataframe thead th {\n",
       "        text-align: right;\n",
       "    }\n",
       "</style>\n",
       "<table border=\"1\" class=\"dataframe\">\n",
       "  <thead>\n",
       "    <tr style=\"text-align: right;\">\n",
       "      <th></th>\n",
       "      <th>date</th>\n",
       "      <th>open</th>\n",
       "      <th>high</th>\n",
       "      <th>low</th>\n",
       "      <th>close</th>\n",
       "      <th>volume</th>\n",
       "      <th>tic</th>\n",
       "      <th>day</th>\n",
       "    </tr>\n",
       "  </thead>\n",
       "  <tbody>\n",
       "    <tr>\n",
       "      <th>0</th>\n",
       "      <td>2009-01-02</td>\n",
       "      <td>21.730000</td>\n",
       "      <td>23.750000</td>\n",
       "      <td>21.040001</td>\n",
       "      <td>15.613833</td>\n",
       "      <td>3490900</td>\n",
       "      <td>GME</td>\n",
       "      <td>4</td>\n",
       "    </tr>\n",
       "    <tr>\n",
       "      <th>1</th>\n",
       "      <td>2009-01-05</td>\n",
       "      <td>23.240000</td>\n",
       "      <td>24.490000</td>\n",
       "      <td>23.000000</td>\n",
       "      <td>16.044743</td>\n",
       "      <td>3409400</td>\n",
       "      <td>GME</td>\n",
       "      <td>0</td>\n",
       "    </tr>\n",
       "    <tr>\n",
       "      <th>2</th>\n",
       "      <td>2009-01-06</td>\n",
       "      <td>24.049999</td>\n",
       "      <td>24.530001</td>\n",
       "      <td>23.150000</td>\n",
       "      <td>15.836020</td>\n",
       "      <td>3466500</td>\n",
       "      <td>GME</td>\n",
       "      <td>1</td>\n",
       "    </tr>\n",
       "    <tr>\n",
       "      <th>3</th>\n",
       "      <td>2009-01-07</td>\n",
       "      <td>23.420000</td>\n",
       "      <td>23.420000</td>\n",
       "      <td>22.260000</td>\n",
       "      <td>15.223316</td>\n",
       "      <td>2780700</td>\n",
       "      <td>GME</td>\n",
       "      <td>2</td>\n",
       "    </tr>\n",
       "    <tr>\n",
       "      <th>4</th>\n",
       "      <td>2009-01-08</td>\n",
       "      <td>24.690001</td>\n",
       "      <td>26.150000</td>\n",
       "      <td>23.000000</td>\n",
       "      <td>17.223019</td>\n",
       "      <td>10538000</td>\n",
       "      <td>GME</td>\n",
       "      <td>3</td>\n",
       "    </tr>\n",
       "  </tbody>\n",
       "</table>\n",
       "</div>"
      ],
      "text/plain": [
       "         date       open       high        low      close    volume  tic  day\n",
       "0  2009-01-02  21.730000  23.750000  21.040001  15.613833   3490900  GME    4\n",
       "1  2009-01-05  23.240000  24.490000  23.000000  16.044743   3409400  GME    0\n",
       "2  2009-01-06  24.049999  24.530001  23.150000  15.836020   3466500  GME    1\n",
       "3  2009-01-07  23.420000  23.420000  22.260000  15.223316   2780700  GME    2\n",
       "4  2009-01-08  24.690001  26.150000  23.000000  17.223019  10538000  GME    3"
      ]
     },
     "execution_count": 9,
     "metadata": {},
     "output_type": "execute_result"
    }
   ],
   "source": [
    "df.sort_values(['date','tic'],ignore_index=True).head()"
   ]
  },
  {
   "cell_type": "code",
   "execution_count": 10,
   "metadata": {
    "colab": {
     "base_uri": "https://localhost:8080/"
    },
    "id": "PmKP-1ii3RLS",
    "outputId": "f04f7c44-c6ad-48db-9b9c-dbc72ce47f80",
    "pycharm": {
     "name": "#%%\n"
    }
   },
   "outputs": [
    {
     "name": "stdout",
     "output_type": "stream",
     "text": [
      "Successfully added technical indicators\n",
      "Successfully added turbulence index\n"
     ]
    }
   ],
   "source": [
    "fe = FeatureEngineer(\n",
    "                    use_technical_indicator=True,\n",
    "                    tech_indicator_list = config.TECHNICAL_INDICATORS_LIST,\n",
    "                    use_turbulence=True,\n",
    "                    user_defined_feature = False)\n",
    "\n",
    "processed = fe.preprocess_data(df)"
   ]
  },
  {
   "cell_type": "code",
   "execution_count": 11,
   "metadata": {
    "id": "Kixon2tR3RLT"
   },
   "outputs": [],
   "source": [
    "list_ticker = processed[\"tic\"].unique().tolist()\n",
    "list_date = list(pd.date_range(processed['date'].min(),processed['date'].max()).astype(str))\n",
    "combination = list(itertools.product(list_date,list_ticker))\n",
    "\n",
    "processed_full = pd.DataFrame(combination,columns=[\"date\",\"tic\"]).merge(processed,on=[\"date\",\"tic\"],how=\"left\")\n",
    "processed_full = processed_full[processed_full['date'].isin(processed['date'])]\n",
    "processed_full = processed_full.sort_values(['date','tic'])\n",
    "\n",
    "processed_full = processed_full.fillna(0)"
   ]
  },
  {
   "cell_type": "code",
   "execution_count": 12,
   "metadata": {
    "colab": {
     "base_uri": "https://localhost:8080/",
     "height": 549
    },
    "id": "grvhGJJII3Xn",
    "outputId": "0523691f-99d7-4f11-d72f-cf20622f5f28"
   },
   "outputs": [
    {
     "data": {
      "text/html": [
       "<div>\n",
       "<style scoped>\n",
       "    .dataframe tbody tr th:only-of-type {\n",
       "        vertical-align: middle;\n",
       "    }\n",
       "\n",
       "    .dataframe tbody tr th {\n",
       "        vertical-align: top;\n",
       "    }\n",
       "\n",
       "    .dataframe thead th {\n",
       "        text-align: right;\n",
       "    }\n",
       "</style>\n",
       "<table border=\"1\" class=\"dataframe\">\n",
       "  <thead>\n",
       "    <tr style=\"text-align: right;\">\n",
       "      <th></th>\n",
       "      <th>date</th>\n",
       "      <th>tic</th>\n",
       "      <th>open</th>\n",
       "      <th>high</th>\n",
       "      <th>low</th>\n",
       "      <th>close</th>\n",
       "      <th>volume</th>\n",
       "      <th>day</th>\n",
       "      <th>macd</th>\n",
       "      <th>boll_ub</th>\n",
       "      <th>boll_lb</th>\n",
       "      <th>rsi_30</th>\n",
       "      <th>cci_30</th>\n",
       "      <th>dx_30</th>\n",
       "      <th>close_30_sma</th>\n",
       "      <th>close_60_sma</th>\n",
       "      <th>turbulence</th>\n",
       "    </tr>\n",
       "  </thead>\n",
       "  <tbody>\n",
       "    <tr>\n",
       "      <th>0</th>\n",
       "      <td>2009-01-02</td>\n",
       "      <td>AMC</td>\n",
       "      <td>0.000000</td>\n",
       "      <td>0.000000</td>\n",
       "      <td>0.000000</td>\n",
       "      <td>0.000000</td>\n",
       "      <td>0.0</td>\n",
       "      <td>0.0</td>\n",
       "      <td>0.000000</td>\n",
       "      <td>0.000000</td>\n",
       "      <td>0.000000</td>\n",
       "      <td>0.000000</td>\n",
       "      <td>0.000000</td>\n",
       "      <td>0.0</td>\n",
       "      <td>0.000000</td>\n",
       "      <td>0.000000</td>\n",
       "      <td>0.0</td>\n",
       "    </tr>\n",
       "    <tr>\n",
       "      <th>1</th>\n",
       "      <td>2009-01-02</td>\n",
       "      <td>GME</td>\n",
       "      <td>21.730000</td>\n",
       "      <td>23.750000</td>\n",
       "      <td>21.040001</td>\n",
       "      <td>15.613833</td>\n",
       "      <td>3490900.0</td>\n",
       "      <td>4.0</td>\n",
       "      <td>0.000000</td>\n",
       "      <td>16.438686</td>\n",
       "      <td>15.219890</td>\n",
       "      <td>100.000000</td>\n",
       "      <td>66.666667</td>\n",
       "      <td>100.0</td>\n",
       "      <td>15.613833</td>\n",
       "      <td>15.613833</td>\n",
       "      <td>0.0</td>\n",
       "    </tr>\n",
       "    <tr>\n",
       "      <th>2</th>\n",
       "      <td>2009-01-02</td>\n",
       "      <td>SNDL</td>\n",
       "      <td>0.000000</td>\n",
       "      <td>0.000000</td>\n",
       "      <td>0.000000</td>\n",
       "      <td>0.000000</td>\n",
       "      <td>0.0</td>\n",
       "      <td>0.0</td>\n",
       "      <td>0.000000</td>\n",
       "      <td>0.000000</td>\n",
       "      <td>0.000000</td>\n",
       "      <td>0.000000</td>\n",
       "      <td>0.000000</td>\n",
       "      <td>0.0</td>\n",
       "      <td>0.000000</td>\n",
       "      <td>0.000000</td>\n",
       "      <td>0.0</td>\n",
       "    </tr>\n",
       "    <tr>\n",
       "      <th>3</th>\n",
       "      <td>2009-01-05</td>\n",
       "      <td>AMC</td>\n",
       "      <td>0.000000</td>\n",
       "      <td>0.000000</td>\n",
       "      <td>0.000000</td>\n",
       "      <td>0.000000</td>\n",
       "      <td>0.0</td>\n",
       "      <td>0.0</td>\n",
       "      <td>0.000000</td>\n",
       "      <td>0.000000</td>\n",
       "      <td>0.000000</td>\n",
       "      <td>0.000000</td>\n",
       "      <td>0.000000</td>\n",
       "      <td>0.0</td>\n",
       "      <td>0.000000</td>\n",
       "      <td>0.000000</td>\n",
       "      <td>0.0</td>\n",
       "    </tr>\n",
       "    <tr>\n",
       "      <th>4</th>\n",
       "      <td>2009-01-05</td>\n",
       "      <td>GME</td>\n",
       "      <td>23.240000</td>\n",
       "      <td>24.490000</td>\n",
       "      <td>23.000000</td>\n",
       "      <td>16.044743</td>\n",
       "      <td>3409400.0</td>\n",
       "      <td>0.0</td>\n",
       "      <td>0.009668</td>\n",
       "      <td>16.438686</td>\n",
       "      <td>15.219890</td>\n",
       "      <td>100.000000</td>\n",
       "      <td>66.666667</td>\n",
       "      <td>100.0</td>\n",
       "      <td>15.829288</td>\n",
       "      <td>15.829288</td>\n",
       "      <td>0.0</td>\n",
       "    </tr>\n",
       "    <tr>\n",
       "      <th>5</th>\n",
       "      <td>2009-01-05</td>\n",
       "      <td>SNDL</td>\n",
       "      <td>0.000000</td>\n",
       "      <td>0.000000</td>\n",
       "      <td>0.000000</td>\n",
       "      <td>0.000000</td>\n",
       "      <td>0.0</td>\n",
       "      <td>0.0</td>\n",
       "      <td>0.000000</td>\n",
       "      <td>0.000000</td>\n",
       "      <td>0.000000</td>\n",
       "      <td>0.000000</td>\n",
       "      <td>0.000000</td>\n",
       "      <td>0.0</td>\n",
       "      <td>0.000000</td>\n",
       "      <td>0.000000</td>\n",
       "      <td>0.0</td>\n",
       "    </tr>\n",
       "    <tr>\n",
       "      <th>6</th>\n",
       "      <td>2009-01-06</td>\n",
       "      <td>AMC</td>\n",
       "      <td>0.000000</td>\n",
       "      <td>0.000000</td>\n",
       "      <td>0.000000</td>\n",
       "      <td>0.000000</td>\n",
       "      <td>0.0</td>\n",
       "      <td>0.0</td>\n",
       "      <td>0.000000</td>\n",
       "      <td>0.000000</td>\n",
       "      <td>0.000000</td>\n",
       "      <td>0.000000</td>\n",
       "      <td>0.000000</td>\n",
       "      <td>0.0</td>\n",
       "      <td>0.000000</td>\n",
       "      <td>0.000000</td>\n",
       "      <td>0.0</td>\n",
       "    </tr>\n",
       "    <tr>\n",
       "      <th>7</th>\n",
       "      <td>2009-01-06</td>\n",
       "      <td>GME</td>\n",
       "      <td>24.049999</td>\n",
       "      <td>24.530001</td>\n",
       "      <td>23.150000</td>\n",
       "      <td>15.836020</td>\n",
       "      <td>3466500.0</td>\n",
       "      <td>1.0</td>\n",
       "      <td>0.005846</td>\n",
       "      <td>16.262511</td>\n",
       "      <td>15.400553</td>\n",
       "      <td>66.618654</td>\n",
       "      <td>49.550162</td>\n",
       "      <td>100.0</td>\n",
       "      <td>15.831532</td>\n",
       "      <td>15.831532</td>\n",
       "      <td>0.0</td>\n",
       "    </tr>\n",
       "    <tr>\n",
       "      <th>8</th>\n",
       "      <td>2009-01-06</td>\n",
       "      <td>SNDL</td>\n",
       "      <td>0.000000</td>\n",
       "      <td>0.000000</td>\n",
       "      <td>0.000000</td>\n",
       "      <td>0.000000</td>\n",
       "      <td>0.0</td>\n",
       "      <td>0.0</td>\n",
       "      <td>0.000000</td>\n",
       "      <td>0.000000</td>\n",
       "      <td>0.000000</td>\n",
       "      <td>0.000000</td>\n",
       "      <td>0.000000</td>\n",
       "      <td>0.0</td>\n",
       "      <td>0.000000</td>\n",
       "      <td>0.000000</td>\n",
       "      <td>0.0</td>\n",
       "    </tr>\n",
       "    <tr>\n",
       "      <th>9</th>\n",
       "      <td>2009-01-07</td>\n",
       "      <td>AMC</td>\n",
       "      <td>0.000000</td>\n",
       "      <td>0.000000</td>\n",
       "      <td>0.000000</td>\n",
       "      <td>0.000000</td>\n",
       "      <td>0.0</td>\n",
       "      <td>0.0</td>\n",
       "      <td>0.000000</td>\n",
       "      <td>0.000000</td>\n",
       "      <td>0.000000</td>\n",
       "      <td>0.000000</td>\n",
       "      <td>0.000000</td>\n",
       "      <td>0.0</td>\n",
       "      <td>0.000000</td>\n",
       "      <td>0.000000</td>\n",
       "      <td>0.0</td>\n",
       "    </tr>\n",
       "  </tbody>\n",
       "</table>\n",
       "</div>"
      ],
      "text/plain": [
       "         date   tic       open       high        low      close     volume  \\\n",
       "0  2009-01-02   AMC   0.000000   0.000000   0.000000   0.000000        0.0   \n",
       "1  2009-01-02   GME  21.730000  23.750000  21.040001  15.613833  3490900.0   \n",
       "2  2009-01-02  SNDL   0.000000   0.000000   0.000000   0.000000        0.0   \n",
       "3  2009-01-05   AMC   0.000000   0.000000   0.000000   0.000000        0.0   \n",
       "4  2009-01-05   GME  23.240000  24.490000  23.000000  16.044743  3409400.0   \n",
       "5  2009-01-05  SNDL   0.000000   0.000000   0.000000   0.000000        0.0   \n",
       "6  2009-01-06   AMC   0.000000   0.000000   0.000000   0.000000        0.0   \n",
       "7  2009-01-06   GME  24.049999  24.530001  23.150000  15.836020  3466500.0   \n",
       "8  2009-01-06  SNDL   0.000000   0.000000   0.000000   0.000000        0.0   \n",
       "9  2009-01-07   AMC   0.000000   0.000000   0.000000   0.000000        0.0   \n",
       "\n",
       "   day      macd    boll_ub    boll_lb      rsi_30     cci_30  dx_30  \\\n",
       "0  0.0  0.000000   0.000000   0.000000    0.000000   0.000000    0.0   \n",
       "1  4.0  0.000000  16.438686  15.219890  100.000000  66.666667  100.0   \n",
       "2  0.0  0.000000   0.000000   0.000000    0.000000   0.000000    0.0   \n",
       "3  0.0  0.000000   0.000000   0.000000    0.000000   0.000000    0.0   \n",
       "4  0.0  0.009668  16.438686  15.219890  100.000000  66.666667  100.0   \n",
       "5  0.0  0.000000   0.000000   0.000000    0.000000   0.000000    0.0   \n",
       "6  0.0  0.000000   0.000000   0.000000    0.000000   0.000000    0.0   \n",
       "7  1.0  0.005846  16.262511  15.400553   66.618654  49.550162  100.0   \n",
       "8  0.0  0.000000   0.000000   0.000000    0.000000   0.000000    0.0   \n",
       "9  0.0  0.000000   0.000000   0.000000    0.000000   0.000000    0.0   \n",
       "\n",
       "   close_30_sma  close_60_sma  turbulence  \n",
       "0      0.000000      0.000000         0.0  \n",
       "1     15.613833     15.613833         0.0  \n",
       "2      0.000000      0.000000         0.0  \n",
       "3      0.000000      0.000000         0.0  \n",
       "4     15.829288     15.829288         0.0  \n",
       "5      0.000000      0.000000         0.0  \n",
       "6      0.000000      0.000000         0.0  \n",
       "7     15.831532     15.831532         0.0  \n",
       "8      0.000000      0.000000         0.0  \n",
       "9      0.000000      0.000000         0.0  "
      ]
     },
     "execution_count": 12,
     "metadata": {},
     "output_type": "execute_result"
    }
   ],
   "source": [
    "processed_full.sort_values(['date','tic'],ignore_index=True).head(10)"
   ]
  },
  {
   "cell_type": "code",
   "execution_count": 13,
   "metadata": {
    "colab": {
     "base_uri": "https://localhost:8080/"
    },
    "id": "W0qaVGjLtgbI",
    "outputId": "f7dd4f68-51b0-4497-867d-e6cb462f9474"
   },
   "outputs": [
    {
     "name": "stdout",
     "output_type": "stream",
     "text": [
      "7548\n",
      "1698\n"
     ]
    }
   ],
   "source": [
    "train = data_split(processed_full, '2009-01-01','2019-01-01')\n",
    "trade = data_split(processed_full, '2019-01-01','2021-04-01')\n",
    "print(len(train))\n",
    "print(len(trade))"
   ]
  },
  {
   "cell_type": "code",
   "execution_count": 14,
   "metadata": {
    "colab": {
     "base_uri": "https://localhost:8080/",
     "height": 309
    },
    "id": "p52zNCOhTtLR",
    "outputId": "ef026856-f15e-49e3-d3d9-b45eaed9f3bb"
   },
   "outputs": [
    {
     "data": {
      "text/html": [
       "<div>\n",
       "<style scoped>\n",
       "    .dataframe tbody tr th:only-of-type {\n",
       "        vertical-align: middle;\n",
       "    }\n",
       "\n",
       "    .dataframe tbody tr th {\n",
       "        vertical-align: top;\n",
       "    }\n",
       "\n",
       "    .dataframe thead th {\n",
       "        text-align: right;\n",
       "    }\n",
       "</style>\n",
       "<table border=\"1\" class=\"dataframe\">\n",
       "  <thead>\n",
       "    <tr style=\"text-align: right;\">\n",
       "      <th></th>\n",
       "      <th>date</th>\n",
       "      <th>tic</th>\n",
       "      <th>open</th>\n",
       "      <th>high</th>\n",
       "      <th>low</th>\n",
       "      <th>close</th>\n",
       "      <th>volume</th>\n",
       "      <th>day</th>\n",
       "      <th>macd</th>\n",
       "      <th>boll_ub</th>\n",
       "      <th>boll_lb</th>\n",
       "      <th>rsi_30</th>\n",
       "      <th>cci_30</th>\n",
       "      <th>dx_30</th>\n",
       "      <th>close_30_sma</th>\n",
       "      <th>close_60_sma</th>\n",
       "      <th>turbulence</th>\n",
       "    </tr>\n",
       "  </thead>\n",
       "  <tbody>\n",
       "    <tr>\n",
       "      <th>0</th>\n",
       "      <td>2009-01-02</td>\n",
       "      <td>AMC</td>\n",
       "      <td>0.00</td>\n",
       "      <td>0.00</td>\n",
       "      <td>0.000000</td>\n",
       "      <td>0.000000</td>\n",
       "      <td>0.0</td>\n",
       "      <td>0.0</td>\n",
       "      <td>0.000000</td>\n",
       "      <td>0.000000</td>\n",
       "      <td>0.00000</td>\n",
       "      <td>0.0</td>\n",
       "      <td>0.000000</td>\n",
       "      <td>0.0</td>\n",
       "      <td>0.000000</td>\n",
       "      <td>0.000000</td>\n",
       "      <td>0.0</td>\n",
       "    </tr>\n",
       "    <tr>\n",
       "      <th>0</th>\n",
       "      <td>2009-01-02</td>\n",
       "      <td>GME</td>\n",
       "      <td>21.73</td>\n",
       "      <td>23.75</td>\n",
       "      <td>21.040001</td>\n",
       "      <td>15.613833</td>\n",
       "      <td>3490900.0</td>\n",
       "      <td>4.0</td>\n",
       "      <td>0.000000</td>\n",
       "      <td>16.438686</td>\n",
       "      <td>15.21989</td>\n",
       "      <td>100.0</td>\n",
       "      <td>66.666667</td>\n",
       "      <td>100.0</td>\n",
       "      <td>15.613833</td>\n",
       "      <td>15.613833</td>\n",
       "      <td>0.0</td>\n",
       "    </tr>\n",
       "    <tr>\n",
       "      <th>0</th>\n",
       "      <td>2009-01-02</td>\n",
       "      <td>SNDL</td>\n",
       "      <td>0.00</td>\n",
       "      <td>0.00</td>\n",
       "      <td>0.000000</td>\n",
       "      <td>0.000000</td>\n",
       "      <td>0.0</td>\n",
       "      <td>0.0</td>\n",
       "      <td>0.000000</td>\n",
       "      <td>0.000000</td>\n",
       "      <td>0.00000</td>\n",
       "      <td>0.0</td>\n",
       "      <td>0.000000</td>\n",
       "      <td>0.0</td>\n",
       "      <td>0.000000</td>\n",
       "      <td>0.000000</td>\n",
       "      <td>0.0</td>\n",
       "    </tr>\n",
       "    <tr>\n",
       "      <th>1</th>\n",
       "      <td>2009-01-05</td>\n",
       "      <td>AMC</td>\n",
       "      <td>0.00</td>\n",
       "      <td>0.00</td>\n",
       "      <td>0.000000</td>\n",
       "      <td>0.000000</td>\n",
       "      <td>0.0</td>\n",
       "      <td>0.0</td>\n",
       "      <td>0.000000</td>\n",
       "      <td>0.000000</td>\n",
       "      <td>0.00000</td>\n",
       "      <td>0.0</td>\n",
       "      <td>0.000000</td>\n",
       "      <td>0.0</td>\n",
       "      <td>0.000000</td>\n",
       "      <td>0.000000</td>\n",
       "      <td>0.0</td>\n",
       "    </tr>\n",
       "    <tr>\n",
       "      <th>1</th>\n",
       "      <td>2009-01-05</td>\n",
       "      <td>GME</td>\n",
       "      <td>23.24</td>\n",
       "      <td>24.49</td>\n",
       "      <td>23.000000</td>\n",
       "      <td>16.044743</td>\n",
       "      <td>3409400.0</td>\n",
       "      <td>0.0</td>\n",
       "      <td>0.009668</td>\n",
       "      <td>16.438686</td>\n",
       "      <td>15.21989</td>\n",
       "      <td>100.0</td>\n",
       "      <td>66.666667</td>\n",
       "      <td>100.0</td>\n",
       "      <td>15.829288</td>\n",
       "      <td>15.829288</td>\n",
       "      <td>0.0</td>\n",
       "    </tr>\n",
       "  </tbody>\n",
       "</table>\n",
       "</div>"
      ],
      "text/plain": [
       "         date   tic   open   high        low      close     volume  day  \\\n",
       "0  2009-01-02   AMC   0.00   0.00   0.000000   0.000000        0.0  0.0   \n",
       "0  2009-01-02   GME  21.73  23.75  21.040001  15.613833  3490900.0  4.0   \n",
       "0  2009-01-02  SNDL   0.00   0.00   0.000000   0.000000        0.0  0.0   \n",
       "1  2009-01-05   AMC   0.00   0.00   0.000000   0.000000        0.0  0.0   \n",
       "1  2009-01-05   GME  23.24  24.49  23.000000  16.044743  3409400.0  0.0   \n",
       "\n",
       "       macd    boll_ub   boll_lb  rsi_30     cci_30  dx_30  close_30_sma  \\\n",
       "0  0.000000   0.000000   0.00000     0.0   0.000000    0.0      0.000000   \n",
       "0  0.000000  16.438686  15.21989   100.0  66.666667  100.0     15.613833   \n",
       "0  0.000000   0.000000   0.00000     0.0   0.000000    0.0      0.000000   \n",
       "1  0.000000   0.000000   0.00000     0.0   0.000000    0.0      0.000000   \n",
       "1  0.009668  16.438686  15.21989   100.0  66.666667  100.0     15.829288   \n",
       "\n",
       "   close_60_sma  turbulence  \n",
       "0      0.000000         0.0  \n",
       "0     15.613833         0.0  \n",
       "0      0.000000         0.0  \n",
       "1      0.000000         0.0  \n",
       "1     15.829288         0.0  "
      ]
     },
     "execution_count": 14,
     "metadata": {},
     "output_type": "execute_result"
    }
   ],
   "source": [
    "train.head()"
   ]
  },
  {
   "cell_type": "code",
   "execution_count": 15,
   "metadata": {
    "colab": {
     "base_uri": "https://localhost:8080/",
     "height": 309
    },
    "id": "k9zU9YaTTvFq",
    "outputId": "a449c5b4-b244-44b8-b756-10c82fe9546b"
   },
   "outputs": [
    {
     "data": {
      "text/html": [
       "<div>\n",
       "<style scoped>\n",
       "    .dataframe tbody tr th:only-of-type {\n",
       "        vertical-align: middle;\n",
       "    }\n",
       "\n",
       "    .dataframe tbody tr th {\n",
       "        vertical-align: top;\n",
       "    }\n",
       "\n",
       "    .dataframe thead th {\n",
       "        text-align: right;\n",
       "    }\n",
       "</style>\n",
       "<table border=\"1\" class=\"dataframe\">\n",
       "  <thead>\n",
       "    <tr style=\"text-align: right;\">\n",
       "      <th></th>\n",
       "      <th>date</th>\n",
       "      <th>tic</th>\n",
       "      <th>open</th>\n",
       "      <th>high</th>\n",
       "      <th>low</th>\n",
       "      <th>close</th>\n",
       "      <th>volume</th>\n",
       "      <th>day</th>\n",
       "      <th>macd</th>\n",
       "      <th>boll_ub</th>\n",
       "      <th>boll_lb</th>\n",
       "      <th>rsi_30</th>\n",
       "      <th>cci_30</th>\n",
       "      <th>dx_30</th>\n",
       "      <th>close_30_sma</th>\n",
       "      <th>close_60_sma</th>\n",
       "      <th>turbulence</th>\n",
       "    </tr>\n",
       "  </thead>\n",
       "  <tbody>\n",
       "    <tr>\n",
       "      <th>0</th>\n",
       "      <td>2019-01-02</td>\n",
       "      <td>AMC</td>\n",
       "      <td>12.01</td>\n",
       "      <td>13.08</td>\n",
       "      <td>11.90</td>\n",
       "      <td>11.914326</td>\n",
       "      <td>1374900.0</td>\n",
       "      <td>2.0</td>\n",
       "      <td>-0.701041</td>\n",
       "      <td>14.488310</td>\n",
       "      <td>10.680646</td>\n",
       "      <td>40.485245</td>\n",
       "      <td>-104.459928</td>\n",
       "      <td>33.866726</td>\n",
       "      <td>12.574529</td>\n",
       "      <td>14.702906</td>\n",
       "      <td>4.114957</td>\n",
       "    </tr>\n",
       "    <tr>\n",
       "      <th>0</th>\n",
       "      <td>2019-01-02</td>\n",
       "      <td>GME</td>\n",
       "      <td>12.45</td>\n",
       "      <td>13.18</td>\n",
       "      <td>12.42</td>\n",
       "      <td>12.641105</td>\n",
       "      <td>2124200.0</td>\n",
       "      <td>2.0</td>\n",
       "      <td>-0.280966</td>\n",
       "      <td>13.242756</td>\n",
       "      <td>11.383998</td>\n",
       "      <td>48.209291</td>\n",
       "      <td>-20.372024</td>\n",
       "      <td>2.414213</td>\n",
       "      <td>12.531562</td>\n",
       "      <td>13.170070</td>\n",
       "      <td>4.114957</td>\n",
       "    </tr>\n",
       "    <tr>\n",
       "      <th>0</th>\n",
       "      <td>2019-01-02</td>\n",
       "      <td>SNDL</td>\n",
       "      <td>0.00</td>\n",
       "      <td>0.00</td>\n",
       "      <td>0.00</td>\n",
       "      <td>0.000000</td>\n",
       "      <td>0.0</td>\n",
       "      <td>0.0</td>\n",
       "      <td>0.000000</td>\n",
       "      <td>0.000000</td>\n",
       "      <td>0.000000</td>\n",
       "      <td>0.000000</td>\n",
       "      <td>0.000000</td>\n",
       "      <td>0.000000</td>\n",
       "      <td>0.000000</td>\n",
       "      <td>0.000000</td>\n",
       "      <td>0.000000</td>\n",
       "    </tr>\n",
       "    <tr>\n",
       "      <th>1</th>\n",
       "      <td>2019-01-03</td>\n",
       "      <td>AMC</td>\n",
       "      <td>12.80</td>\n",
       "      <td>13.54</td>\n",
       "      <td>12.63</td>\n",
       "      <td>12.071457</td>\n",
       "      <td>1392400.0</td>\n",
       "      <td>3.0</td>\n",
       "      <td>-0.641874</td>\n",
       "      <td>14.448067</td>\n",
       "      <td>10.631638</td>\n",
       "      <td>41.377001</td>\n",
       "      <td>-54.833632</td>\n",
       "      <td>22.162177</td>\n",
       "      <td>12.549945</td>\n",
       "      <td>14.604765</td>\n",
       "      <td>0.326790</td>\n",
       "    </tr>\n",
       "    <tr>\n",
       "      <th>1</th>\n",
       "      <td>2019-01-03</td>\n",
       "      <td>GME</td>\n",
       "      <td>12.98</td>\n",
       "      <td>13.26</td>\n",
       "      <td>12.69</td>\n",
       "      <td>12.544387</td>\n",
       "      <td>1750400.0</td>\n",
       "      <td>3.0</td>\n",
       "      <td>-0.229764</td>\n",
       "      <td>13.160574</td>\n",
       "      <td>11.416397</td>\n",
       "      <td>47.698639</td>\n",
       "      <td>-12.437444</td>\n",
       "      <td>0.450027</td>\n",
       "      <td>12.548819</td>\n",
       "      <td>13.149078</td>\n",
       "      <td>0.326790</td>\n",
       "    </tr>\n",
       "  </tbody>\n",
       "</table>\n",
       "</div>"
      ],
      "text/plain": [
       "         date   tic   open   high    low      close     volume  day      macd  \\\n",
       "0  2019-01-02   AMC  12.01  13.08  11.90  11.914326  1374900.0  2.0 -0.701041   \n",
       "0  2019-01-02   GME  12.45  13.18  12.42  12.641105  2124200.0  2.0 -0.280966   \n",
       "0  2019-01-02  SNDL   0.00   0.00   0.00   0.000000        0.0  0.0  0.000000   \n",
       "1  2019-01-03   AMC  12.80  13.54  12.63  12.071457  1392400.0  3.0 -0.641874   \n",
       "1  2019-01-03   GME  12.98  13.26  12.69  12.544387  1750400.0  3.0 -0.229764   \n",
       "\n",
       "     boll_ub    boll_lb     rsi_30      cci_30      dx_30  close_30_sma  \\\n",
       "0  14.488310  10.680646  40.485245 -104.459928  33.866726     12.574529   \n",
       "0  13.242756  11.383998  48.209291  -20.372024   2.414213     12.531562   \n",
       "0   0.000000   0.000000   0.000000    0.000000   0.000000      0.000000   \n",
       "1  14.448067  10.631638  41.377001  -54.833632  22.162177     12.549945   \n",
       "1  13.160574  11.416397  47.698639  -12.437444   0.450027     12.548819   \n",
       "\n",
       "   close_60_sma  turbulence  \n",
       "0     14.702906    4.114957  \n",
       "0     13.170070    4.114957  \n",
       "0      0.000000    0.000000  \n",
       "1     14.604765    0.326790  \n",
       "1     13.149078    0.326790  "
      ]
     },
     "execution_count": 15,
     "metadata": {},
     "output_type": "execute_result"
    }
   ],
   "source": [
    "trade.head()"
   ]
  },
  {
   "cell_type": "code",
   "execution_count": 16,
   "metadata": {
    "colab": {
     "base_uri": "https://localhost:8080/"
    },
    "id": "zYN573SOHhxG",
    "outputId": "0c82387b-5820-4825-8a66-9d67f024f88e"
   },
   "outputs": [
    {
     "data": {
      "text/plain": [
       "['macd',\n",
       " 'boll_ub',\n",
       " 'boll_lb',\n",
       " 'rsi_30',\n",
       " 'cci_30',\n",
       " 'dx_30',\n",
       " 'close_30_sma',\n",
       " 'close_60_sma']"
      ]
     },
     "execution_count": 16,
     "metadata": {},
     "output_type": "execute_result"
    }
   ],
   "source": [
    "config.TECHNICAL_INDICATORS_LIST"
   ]
  },
  {
   "cell_type": "code",
   "execution_count": 17,
   "metadata": {
    "colab": {
     "base_uri": "https://localhost:8080/"
    },
    "id": "Q2zqII8rMIqn",
    "outputId": "de67ad03-fec4-4d1b-fcc5-2873406dde70"
   },
   "outputs": [
    {
     "name": "stdout",
     "output_type": "stream",
     "text": [
      "Stock Dimension: 3, State Space: 31\n"
     ]
    }
   ],
   "source": [
    "stock_dimension = len(train.tic.unique())\n",
    "state_space = 1 + 2*stock_dimension + len(config.TECHNICAL_INDICATORS_LIST)*stock_dimension\n",
    "print(f\"Stock Dimension: {stock_dimension}, State Space: {state_space}\")\n"
   ]
  },
  {
   "cell_type": "code",
   "execution_count": 18,
   "metadata": {
    "id": "AWyp84Ltto19"
   },
   "outputs": [],
   "source": [
    "env_kwargs = {\n",
    "    \"hmax\": 100, \n",
    "    \"initial_amount\": 1000000, \n",
    "    \"buy_cost_pct\": 0.001,\n",
    "    \"sell_cost_pct\": 0.001,\n",
    "    \"state_space\": state_space, \n",
    "    \"stock_dim\": stock_dimension, \n",
    "    \"tech_indicator_list\": config.TECHNICAL_INDICATORS_LIST, \n",
    "    \"action_space\": stock_dimension, \n",
    "    \"reward_scaling\": 1e-4\n",
    "    \n",
    "}\n",
    "\n",
    "e_train_gym = StockTradingEnv(df = train, **env_kwargs)"
   ]
  },
  {
   "cell_type": "code",
   "execution_count": 19,
   "metadata": {
    "colab": {
     "base_uri": "https://localhost:8080/"
    },
    "id": "xwSvvPjutpqS",
    "outputId": "259bc17b-f03a-498e-87f5-ab3406413096"
   },
   "outputs": [
    {
     "name": "stdout",
     "output_type": "stream",
     "text": [
      "<class 'stable_baselines3.common.vec_env.dummy_vec_env.DummyVecEnv'>\n"
     ]
    }
   ],
   "source": [
    "env_train, _ = e_train_gym.get_sb_env()\n",
    "print(type(env_train))"
   ]
  },
  {
   "cell_type": "code",
   "execution_count": 38,
   "metadata": {
    "colab": {
     "base_uri": "https://localhost:8080/"
    },
    "id": "JSAHhV4Xc-bh",
    "outputId": "e531db14-aab4-47d1-cc15-02c893ec66c9"
   },
   "outputs": [
    {
     "name": "stdout",
     "output_type": "stream",
     "text": [
      "{'batch_size': 100, 'buffer_size': 1000000, 'learning_rate': 0.001}\n",
      "Using cpu device\n"
     ]
    }
   ],
   "source": [
    "agent = DRLAgent(env = env_train)\n",
    "TD3_PARAMS = {\"batch_size\": 100, \n",
    "              \"buffer_size\": 1000000, \n",
    "              \"learning_rate\": 0.001}\n",
    "\n",
    "model_td3 = agent.get_model(\"td3\",model_kwargs = TD3_PARAMS)"
   ]
  },
  {
   "cell_type": "code",
   "execution_count": 39,
   "metadata": {
    "colab": {
     "base_uri": "https://localhost:8080/"
    },
    "id": "OSRxNYAxdKpU",
    "outputId": "ddc4193c-884b-4a2c-9e49-31397e2cfbec"
   },
   "outputs": [
    {
     "name": "stdout",
     "output_type": "stream",
     "text": [
      "Logging to tensorboard_log/td3/td3_10\n",
      "-----------------------------------\n",
      "| environment/        |           |\n",
      "|    portfolio_value  | 7.89e+05  |\n",
      "|    total_cost       | 999       |\n",
      "|    total_reward     | -2.11e+05 |\n",
      "|    total_reward_pct | -21.1     |\n",
      "|    total_trades     | 2515      |\n",
      "| time/               |           |\n",
      "|    episodes         | 4         |\n",
      "|    fps              | 74        |\n",
      "|    time_elapsed     | 135       |\n",
      "|    total timesteps  | 10064     |\n",
      "| train/              |           |\n",
      "|    actor_loss       | -1.42e+03 |\n",
      "|    critic_loss      | 1.13e+04  |\n",
      "|    learning_rate    | 0.001     |\n",
      "|    n_updates        | 7548      |\n",
      "-----------------------------------\n",
      "day: 2515, episode: 50\n",
      "begin_total_asset: 1000000.00\n",
      "end_total_asset: 789134.10\n",
      "total_reward: -210865.90\n",
      "total_cost: 999.00\n",
      "total_trades: 2515\n",
      "Sharpe: 0.108\n",
      "=================================\n",
      "-----------------------------------\n",
      "| environment/        |           |\n",
      "|    portfolio_value  | 7.89e+05  |\n",
      "|    total_cost       | 999       |\n",
      "|    total_reward     | -2.11e+05 |\n",
      "|    total_reward_pct | -21.1     |\n",
      "|    total_trades     | 2515      |\n",
      "| time/               |           |\n",
      "|    episodes         | 8         |\n",
      "|    fps              | 62        |\n",
      "|    time_elapsed     | 320       |\n",
      "|    total timesteps  | 20128     |\n",
      "| train/              |           |\n",
      "|    actor_loss       | -863      |\n",
      "|    critic_loss      | 2.62e+03  |\n",
      "|    learning_rate    | 0.001     |\n",
      "|    n_updates        | 17612     |\n",
      "-----------------------------------\n",
      "-----------------------------------\n",
      "| environment/        |           |\n",
      "|    portfolio_value  | 7.89e+05  |\n",
      "|    total_cost       | 999       |\n",
      "|    total_reward     | -2.11e+05 |\n",
      "|    total_reward_pct | -21.1     |\n",
      "|    total_trades     | 2515      |\n",
      "| time/               |           |\n",
      "|    episodes         | 12        |\n",
      "|    fps              | 60        |\n",
      "|    time_elapsed     | 502       |\n",
      "|    total timesteps  | 30192     |\n",
      "| train/              |           |\n",
      "|    actor_loss       | -537      |\n",
      "|    critic_loss      | 320       |\n",
      "|    learning_rate    | 0.001     |\n",
      "|    n_updates        | 27676     |\n",
      "-----------------------------------\n"
     ]
    }
   ],
   "source": [
    "trained_td3 = agent.train_model(model=model_td3, \n",
    "                             tb_log_name='td3',\n",
    "                             total_timesteps=30000)"
   ]
  },
  {
   "cell_type": "code",
   "execution_count": 41,
   "metadata": {
    "id": "efwBi84ch1jE"
   },
   "outputs": [],
   "source": [
    "data_turbulence = processed_full[(processed_full.date<'2019-01-01') & (processed_full.date>='2009-01-01')]\n",
    "insample_turbulence = data_turbulence.drop_duplicates(subset=['date'])"
   ]
  },
  {
   "cell_type": "code",
   "execution_count": 42,
   "metadata": {
    "colab": {
     "base_uri": "https://localhost:8080/"
    },
    "id": "VHZMBpSqh1jG",
    "outputId": "6dd6e5d6-38d1-4f60-ae70-1168757eb1fc"
   },
   "outputs": [
    {
     "data": {
      "text/plain": [
       "count    2516.000000\n",
       "mean        1.088331\n",
       "std         5.168935\n",
       "min         0.000000\n",
       "25%         0.000000\n",
       "50%         0.000599\n",
       "75%         0.802913\n",
       "max       202.293413\n",
       "Name: turbulence, dtype: float64"
      ]
     },
     "execution_count": 42,
     "metadata": {},
     "output_type": "execute_result"
    }
   ],
   "source": [
    "insample_turbulence.turbulence.describe()"
   ]
  },
  {
   "cell_type": "code",
   "execution_count": 43,
   "metadata": {
    "id": "yuwDPkV9h1jL"
   },
   "outputs": [],
   "source": [
    "#turbulence_threshold = np.quantile(insample_turbulence.turbulence.values,1)"
   ]
  },
  {
   "cell_type": "code",
   "execution_count": 44,
   "metadata": {
    "colab": {
     "base_uri": "https://localhost:8080/"
    },
    "id": "wwoz_7VSh1jO",
    "outputId": "a22d3e00-8a19-4b18-dd3e-9d072a0f6aca"
   },
   "outputs": [],
   "source": [
    "#turbulence_threshold"
   ]
  },
  {
   "cell_type": "code",
   "execution_count": 45,
   "metadata": {
    "id": "cIqoV0GSI52v"
   },
   "outputs": [],
   "source": [
    "trade = data_split(processed_full, '2019-01-01','2021-04-01')\n",
    "e_trade_gym = StockTradingEnv(df = trade, turbulence_threshold=100, **env_kwargs)"
   ]
  },
  {
   "cell_type": "code",
   "execution_count": 46,
   "metadata": {
    "colab": {
     "base_uri": "https://localhost:8080/",
     "height": 309
    },
    "id": "W_XNgGsBMeVw",
    "outputId": "9bd9af7b-9e2b-4c30-bd3d-b1459d189a41"
   },
   "outputs": [
    {
     "data": {
      "text/html": [
       "<div>\n",
       "<style scoped>\n",
       "    .dataframe tbody tr th:only-of-type {\n",
       "        vertical-align: middle;\n",
       "    }\n",
       "\n",
       "    .dataframe tbody tr th {\n",
       "        vertical-align: top;\n",
       "    }\n",
       "\n",
       "    .dataframe thead th {\n",
       "        text-align: right;\n",
       "    }\n",
       "</style>\n",
       "<table border=\"1\" class=\"dataframe\">\n",
       "  <thead>\n",
       "    <tr style=\"text-align: right;\">\n",
       "      <th></th>\n",
       "      <th>date</th>\n",
       "      <th>tic</th>\n",
       "      <th>open</th>\n",
       "      <th>high</th>\n",
       "      <th>low</th>\n",
       "      <th>close</th>\n",
       "      <th>volume</th>\n",
       "      <th>day</th>\n",
       "      <th>macd</th>\n",
       "      <th>boll_ub</th>\n",
       "      <th>boll_lb</th>\n",
       "      <th>rsi_30</th>\n",
       "      <th>cci_30</th>\n",
       "      <th>dx_30</th>\n",
       "      <th>close_30_sma</th>\n",
       "      <th>close_60_sma</th>\n",
       "      <th>turbulence</th>\n",
       "    </tr>\n",
       "  </thead>\n",
       "  <tbody>\n",
       "    <tr>\n",
       "      <th>0</th>\n",
       "      <td>2019-01-02</td>\n",
       "      <td>AMC</td>\n",
       "      <td>12.01</td>\n",
       "      <td>13.08</td>\n",
       "      <td>11.90</td>\n",
       "      <td>11.914326</td>\n",
       "      <td>1374900.0</td>\n",
       "      <td>2.0</td>\n",
       "      <td>-0.701041</td>\n",
       "      <td>14.488310</td>\n",
       "      <td>10.680646</td>\n",
       "      <td>40.485245</td>\n",
       "      <td>-104.459928</td>\n",
       "      <td>33.866726</td>\n",
       "      <td>12.574529</td>\n",
       "      <td>14.702906</td>\n",
       "      <td>4.114957</td>\n",
       "    </tr>\n",
       "    <tr>\n",
       "      <th>0</th>\n",
       "      <td>2019-01-02</td>\n",
       "      <td>GME</td>\n",
       "      <td>12.45</td>\n",
       "      <td>13.18</td>\n",
       "      <td>12.42</td>\n",
       "      <td>12.641105</td>\n",
       "      <td>2124200.0</td>\n",
       "      <td>2.0</td>\n",
       "      <td>-0.280966</td>\n",
       "      <td>13.242756</td>\n",
       "      <td>11.383998</td>\n",
       "      <td>48.209291</td>\n",
       "      <td>-20.372024</td>\n",
       "      <td>2.414213</td>\n",
       "      <td>12.531562</td>\n",
       "      <td>13.170070</td>\n",
       "      <td>4.114957</td>\n",
       "    </tr>\n",
       "    <tr>\n",
       "      <th>0</th>\n",
       "      <td>2019-01-02</td>\n",
       "      <td>SNDL</td>\n",
       "      <td>0.00</td>\n",
       "      <td>0.00</td>\n",
       "      <td>0.00</td>\n",
       "      <td>0.000000</td>\n",
       "      <td>0.0</td>\n",
       "      <td>0.0</td>\n",
       "      <td>0.000000</td>\n",
       "      <td>0.000000</td>\n",
       "      <td>0.000000</td>\n",
       "      <td>0.000000</td>\n",
       "      <td>0.000000</td>\n",
       "      <td>0.000000</td>\n",
       "      <td>0.000000</td>\n",
       "      <td>0.000000</td>\n",
       "      <td>0.000000</td>\n",
       "    </tr>\n",
       "    <tr>\n",
       "      <th>1</th>\n",
       "      <td>2019-01-03</td>\n",
       "      <td>AMC</td>\n",
       "      <td>12.80</td>\n",
       "      <td>13.54</td>\n",
       "      <td>12.63</td>\n",
       "      <td>12.071457</td>\n",
       "      <td>1392400.0</td>\n",
       "      <td>3.0</td>\n",
       "      <td>-0.641874</td>\n",
       "      <td>14.448067</td>\n",
       "      <td>10.631638</td>\n",
       "      <td>41.377001</td>\n",
       "      <td>-54.833632</td>\n",
       "      <td>22.162177</td>\n",
       "      <td>12.549945</td>\n",
       "      <td>14.604765</td>\n",
       "      <td>0.326790</td>\n",
       "    </tr>\n",
       "    <tr>\n",
       "      <th>1</th>\n",
       "      <td>2019-01-03</td>\n",
       "      <td>GME</td>\n",
       "      <td>12.98</td>\n",
       "      <td>13.26</td>\n",
       "      <td>12.69</td>\n",
       "      <td>12.544387</td>\n",
       "      <td>1750400.0</td>\n",
       "      <td>3.0</td>\n",
       "      <td>-0.229764</td>\n",
       "      <td>13.160574</td>\n",
       "      <td>11.416397</td>\n",
       "      <td>47.698639</td>\n",
       "      <td>-12.437444</td>\n",
       "      <td>0.450027</td>\n",
       "      <td>12.548819</td>\n",
       "      <td>13.149078</td>\n",
       "      <td>0.326790</td>\n",
       "    </tr>\n",
       "  </tbody>\n",
       "</table>\n",
       "</div>"
      ],
      "text/plain": [
       "         date   tic   open   high    low      close     volume  day      macd  \\\n",
       "0  2019-01-02   AMC  12.01  13.08  11.90  11.914326  1374900.0  2.0 -0.701041   \n",
       "0  2019-01-02   GME  12.45  13.18  12.42  12.641105  2124200.0  2.0 -0.280966   \n",
       "0  2019-01-02  SNDL   0.00   0.00   0.00   0.000000        0.0  0.0  0.000000   \n",
       "1  2019-01-03   AMC  12.80  13.54  12.63  12.071457  1392400.0  3.0 -0.641874   \n",
       "1  2019-01-03   GME  12.98  13.26  12.69  12.544387  1750400.0  3.0 -0.229764   \n",
       "\n",
       "     boll_ub    boll_lb     rsi_30      cci_30      dx_30  close_30_sma  \\\n",
       "0  14.488310  10.680646  40.485245 -104.459928  33.866726     12.574529   \n",
       "0  13.242756  11.383998  48.209291  -20.372024   2.414213     12.531562   \n",
       "0   0.000000   0.000000   0.000000    0.000000   0.000000      0.000000   \n",
       "1  14.448067  10.631638  41.377001  -54.833632  22.162177     12.549945   \n",
       "1  13.160574  11.416397  47.698639  -12.437444   0.450027     12.548819   \n",
       "\n",
       "   close_60_sma  turbulence  \n",
       "0     14.702906    4.114957  \n",
       "0     13.170070    4.114957  \n",
       "0      0.000000    0.000000  \n",
       "1     14.604765    0.326790  \n",
       "1     13.149078    0.326790  "
      ]
     },
     "execution_count": 46,
     "metadata": {},
     "output_type": "execute_result"
    }
   ],
   "source": [
    "trade.head()"
   ]
  },
  {
   "cell_type": "code",
   "execution_count": 47,
   "metadata": {
    "colab": {
     "base_uri": "https://localhost:8080/"
    },
    "id": "eLOnL5eYh1jR",
    "outputId": "f9c2b3bf-cdfb-45f4-dbbf-2451163da1cc"
   },
   "outputs": [
    {
     "name": "stdout",
     "output_type": "stream",
     "text": [
      "hit end!\n"
     ]
    }
   ],
   "source": [
    "df_account_value,df_actions = DRLAgent.DRL_prediction(\n",
    "    model=trained_td3, \n",
    "    environment = e_trade_gym)"
   ]
  },
  {
   "cell_type": "code",
   "execution_count": 48,
   "metadata": {
    "colab": {
     "base_uri": "https://localhost:8080/"
    },
    "id": "ERxw3KqLkcP4",
    "outputId": "cc31064c-cfa2-4bcc-ab3e-f7028744e506"
   },
   "outputs": [
    {
     "data": {
      "text/plain": [
       "(566, 2)"
      ]
     },
     "execution_count": 48,
     "metadata": {},
     "output_type": "execute_result"
    }
   ],
   "source": [
    "df_account_value.shape\n"
   ]
  },
  {
   "cell_type": "code",
   "execution_count": 49,
   "metadata": {
    "colab": {
     "base_uri": "https://localhost:8080/",
     "height": 204
    },
    "id": "2yRkNguY5yvp",
    "outputId": "a691cfc6-75c5-4c25-9f0e-0c7ba8274e66"
   },
   "outputs": [
    {
     "data": {
      "text/html": [
       "<div>\n",
       "<style scoped>\n",
       "    .dataframe tbody tr th:only-of-type {\n",
       "        vertical-align: middle;\n",
       "    }\n",
       "\n",
       "    .dataframe tbody tr th {\n",
       "        vertical-align: top;\n",
       "    }\n",
       "\n",
       "    .dataframe thead th {\n",
       "        text-align: right;\n",
       "    }\n",
       "</style>\n",
       "<table border=\"1\" class=\"dataframe\">\n",
       "  <thead>\n",
       "    <tr style=\"text-align: right;\">\n",
       "      <th></th>\n",
       "      <th>date</th>\n",
       "      <th>account_value</th>\n",
       "    </tr>\n",
       "  </thead>\n",
       "  <tbody>\n",
       "    <tr>\n",
       "      <th>561</th>\n",
       "      <td>2021-03-25</td>\n",
       "      <td>1.929754e+06</td>\n",
       "    </tr>\n",
       "    <tr>\n",
       "      <th>562</th>\n",
       "      <td>2021-03-26</td>\n",
       "      <td>1.918376e+06</td>\n",
       "    </tr>\n",
       "    <tr>\n",
       "      <th>563</th>\n",
       "      <td>2021-03-29</td>\n",
       "      <td>1.919546e+06</td>\n",
       "    </tr>\n",
       "    <tr>\n",
       "      <th>564</th>\n",
       "      <td>2021-03-30</td>\n",
       "      <td>1.974884e+06</td>\n",
       "    </tr>\n",
       "    <tr>\n",
       "      <th>565</th>\n",
       "      <td>2021-03-31</td>\n",
       "      <td>1.954870e+06</td>\n",
       "    </tr>\n",
       "  </tbody>\n",
       "</table>\n",
       "</div>"
      ],
      "text/plain": [
       "           date  account_value\n",
       "561  2021-03-25   1.929754e+06\n",
       "562  2021-03-26   1.918376e+06\n",
       "563  2021-03-29   1.919546e+06\n",
       "564  2021-03-30   1.974884e+06\n",
       "565  2021-03-31   1.954870e+06"
      ]
     },
     "execution_count": 49,
     "metadata": {},
     "output_type": "execute_result"
    }
   ],
   "source": [
    "df_account_value.tail()"
   ]
  },
  {
   "cell_type": "code",
   "execution_count": 50,
   "metadata": {
    "colab": {
     "base_uri": "https://localhost:8080/",
     "height": 235
    },
    "id": "nFlK5hNbWVFk",
    "outputId": "cced6c73-9f91-4838-eb7d-99c9c2b8d48c"
   },
   "outputs": [
    {
     "data": {
      "text/html": [
       "<div>\n",
       "<style scoped>\n",
       "    .dataframe tbody tr th:only-of-type {\n",
       "        vertical-align: middle;\n",
       "    }\n",
       "\n",
       "    .dataframe tbody tr th {\n",
       "        vertical-align: top;\n",
       "    }\n",
       "\n",
       "    .dataframe thead th {\n",
       "        text-align: right;\n",
       "    }\n",
       "</style>\n",
       "<table border=\"1\" class=\"dataframe\">\n",
       "  <thead>\n",
       "    <tr style=\"text-align: right;\">\n",
       "      <th></th>\n",
       "      <th>AMC</th>\n",
       "      <th>GME</th>\n",
       "      <th>SNDL</th>\n",
       "    </tr>\n",
       "    <tr>\n",
       "      <th>date</th>\n",
       "      <th></th>\n",
       "      <th></th>\n",
       "      <th></th>\n",
       "    </tr>\n",
       "  </thead>\n",
       "  <tbody>\n",
       "    <tr>\n",
       "      <th>2021-01-19</th>\n",
       "      <td>0</td>\n",
       "      <td>100</td>\n",
       "      <td>100</td>\n",
       "    </tr>\n",
       "    <tr>\n",
       "      <th>2021-01-20</th>\n",
       "      <td>0</td>\n",
       "      <td>100</td>\n",
       "      <td>100</td>\n",
       "    </tr>\n",
       "    <tr>\n",
       "      <th>2021-01-21</th>\n",
       "      <td>0</td>\n",
       "      <td>100</td>\n",
       "      <td>100</td>\n",
       "    </tr>\n",
       "    <tr>\n",
       "      <th>2021-01-22</th>\n",
       "      <td>0</td>\n",
       "      <td>100</td>\n",
       "      <td>100</td>\n",
       "    </tr>\n",
       "    <tr>\n",
       "      <th>2021-01-25</th>\n",
       "      <td>0</td>\n",
       "      <td>100</td>\n",
       "      <td>100</td>\n",
       "    </tr>\n",
       "    <tr>\n",
       "      <th>2021-01-26</th>\n",
       "      <td>0</td>\n",
       "      <td>-5100</td>\n",
       "      <td>-5100</td>\n",
       "    </tr>\n",
       "    <tr>\n",
       "      <th>2021-01-27</th>\n",
       "      <td>0</td>\n",
       "      <td>0</td>\n",
       "      <td>0</td>\n",
       "    </tr>\n",
       "    <tr>\n",
       "      <th>2021-01-28</th>\n",
       "      <td>0</td>\n",
       "      <td>100</td>\n",
       "      <td>100</td>\n",
       "    </tr>\n",
       "    <tr>\n",
       "      <th>2021-01-29</th>\n",
       "      <td>0</td>\n",
       "      <td>100</td>\n",
       "      <td>100</td>\n",
       "    </tr>\n",
       "    <tr>\n",
       "      <th>2021-02-01</th>\n",
       "      <td>0</td>\n",
       "      <td>100</td>\n",
       "      <td>100</td>\n",
       "    </tr>\n",
       "    <tr>\n",
       "      <th>2021-02-02</th>\n",
       "      <td>0</td>\n",
       "      <td>100</td>\n",
       "      <td>100</td>\n",
       "    </tr>\n",
       "    <tr>\n",
       "      <th>2021-02-03</th>\n",
       "      <td>0</td>\n",
       "      <td>100</td>\n",
       "      <td>100</td>\n",
       "    </tr>\n",
       "    <tr>\n",
       "      <th>2021-02-04</th>\n",
       "      <td>0</td>\n",
       "      <td>100</td>\n",
       "      <td>100</td>\n",
       "    </tr>\n",
       "    <tr>\n",
       "      <th>2021-02-05</th>\n",
       "      <td>0</td>\n",
       "      <td>100</td>\n",
       "      <td>100</td>\n",
       "    </tr>\n",
       "    <tr>\n",
       "      <th>2021-02-08</th>\n",
       "      <td>0</td>\n",
       "      <td>100</td>\n",
       "      <td>100</td>\n",
       "    </tr>\n",
       "    <tr>\n",
       "      <th>2021-02-09</th>\n",
       "      <td>0</td>\n",
       "      <td>100</td>\n",
       "      <td>100</td>\n",
       "    </tr>\n",
       "    <tr>\n",
       "      <th>2021-02-10</th>\n",
       "      <td>0</td>\n",
       "      <td>100</td>\n",
       "      <td>100</td>\n",
       "    </tr>\n",
       "    <tr>\n",
       "      <th>2021-02-11</th>\n",
       "      <td>0</td>\n",
       "      <td>100</td>\n",
       "      <td>100</td>\n",
       "    </tr>\n",
       "    <tr>\n",
       "      <th>2021-02-12</th>\n",
       "      <td>0</td>\n",
       "      <td>100</td>\n",
       "      <td>100</td>\n",
       "    </tr>\n",
       "    <tr>\n",
       "      <th>2021-02-16</th>\n",
       "      <td>0</td>\n",
       "      <td>100</td>\n",
       "      <td>100</td>\n",
       "    </tr>\n",
       "    <tr>\n",
       "      <th>2021-02-17</th>\n",
       "      <td>0</td>\n",
       "      <td>100</td>\n",
       "      <td>100</td>\n",
       "    </tr>\n",
       "    <tr>\n",
       "      <th>2021-02-18</th>\n",
       "      <td>0</td>\n",
       "      <td>100</td>\n",
       "      <td>100</td>\n",
       "    </tr>\n",
       "    <tr>\n",
       "      <th>2021-02-19</th>\n",
       "      <td>0</td>\n",
       "      <td>100</td>\n",
       "      <td>100</td>\n",
       "    </tr>\n",
       "    <tr>\n",
       "      <th>2021-02-22</th>\n",
       "      <td>0</td>\n",
       "      <td>100</td>\n",
       "      <td>100</td>\n",
       "    </tr>\n",
       "    <tr>\n",
       "      <th>2021-02-23</th>\n",
       "      <td>0</td>\n",
       "      <td>100</td>\n",
       "      <td>100</td>\n",
       "    </tr>\n",
       "    <tr>\n",
       "      <th>2021-02-24</th>\n",
       "      <td>0</td>\n",
       "      <td>100</td>\n",
       "      <td>100</td>\n",
       "    </tr>\n",
       "    <tr>\n",
       "      <th>2021-02-25</th>\n",
       "      <td>0</td>\n",
       "      <td>100</td>\n",
       "      <td>100</td>\n",
       "    </tr>\n",
       "    <tr>\n",
       "      <th>2021-02-26</th>\n",
       "      <td>0</td>\n",
       "      <td>100</td>\n",
       "      <td>100</td>\n",
       "    </tr>\n",
       "    <tr>\n",
       "      <th>2021-03-01</th>\n",
       "      <td>0</td>\n",
       "      <td>100</td>\n",
       "      <td>100</td>\n",
       "    </tr>\n",
       "    <tr>\n",
       "      <th>2021-03-02</th>\n",
       "      <td>0</td>\n",
       "      <td>100</td>\n",
       "      <td>100</td>\n",
       "    </tr>\n",
       "    <tr>\n",
       "      <th>2021-03-03</th>\n",
       "      <td>0</td>\n",
       "      <td>100</td>\n",
       "      <td>100</td>\n",
       "    </tr>\n",
       "    <tr>\n",
       "      <th>2021-03-04</th>\n",
       "      <td>0</td>\n",
       "      <td>100</td>\n",
       "      <td>100</td>\n",
       "    </tr>\n",
       "    <tr>\n",
       "      <th>2021-03-05</th>\n",
       "      <td>0</td>\n",
       "      <td>100</td>\n",
       "      <td>100</td>\n",
       "    </tr>\n",
       "    <tr>\n",
       "      <th>2021-03-08</th>\n",
       "      <td>0</td>\n",
       "      <td>100</td>\n",
       "      <td>100</td>\n",
       "    </tr>\n",
       "    <tr>\n",
       "      <th>2021-03-09</th>\n",
       "      <td>0</td>\n",
       "      <td>100</td>\n",
       "      <td>100</td>\n",
       "    </tr>\n",
       "    <tr>\n",
       "      <th>2021-03-10</th>\n",
       "      <td>0</td>\n",
       "      <td>100</td>\n",
       "      <td>100</td>\n",
       "    </tr>\n",
       "    <tr>\n",
       "      <th>2021-03-11</th>\n",
       "      <td>0</td>\n",
       "      <td>100</td>\n",
       "      <td>100</td>\n",
       "    </tr>\n",
       "    <tr>\n",
       "      <th>2021-03-12</th>\n",
       "      <td>0</td>\n",
       "      <td>100</td>\n",
       "      <td>100</td>\n",
       "    </tr>\n",
       "    <tr>\n",
       "      <th>2021-03-15</th>\n",
       "      <td>0</td>\n",
       "      <td>100</td>\n",
       "      <td>100</td>\n",
       "    </tr>\n",
       "    <tr>\n",
       "      <th>2021-03-16</th>\n",
       "      <td>0</td>\n",
       "      <td>100</td>\n",
       "      <td>100</td>\n",
       "    </tr>\n",
       "    <tr>\n",
       "      <th>2021-03-17</th>\n",
       "      <td>0</td>\n",
       "      <td>100</td>\n",
       "      <td>100</td>\n",
       "    </tr>\n",
       "    <tr>\n",
       "      <th>2021-03-18</th>\n",
       "      <td>0</td>\n",
       "      <td>100</td>\n",
       "      <td>100</td>\n",
       "    </tr>\n",
       "    <tr>\n",
       "      <th>2021-03-19</th>\n",
       "      <td>0</td>\n",
       "      <td>100</td>\n",
       "      <td>100</td>\n",
       "    </tr>\n",
       "    <tr>\n",
       "      <th>2021-03-22</th>\n",
       "      <td>0</td>\n",
       "      <td>100</td>\n",
       "      <td>100</td>\n",
       "    </tr>\n",
       "    <tr>\n",
       "      <th>2021-03-23</th>\n",
       "      <td>0</td>\n",
       "      <td>100</td>\n",
       "      <td>100</td>\n",
       "    </tr>\n",
       "    <tr>\n",
       "      <th>2021-03-24</th>\n",
       "      <td>0</td>\n",
       "      <td>100</td>\n",
       "      <td>100</td>\n",
       "    </tr>\n",
       "    <tr>\n",
       "      <th>2021-03-25</th>\n",
       "      <td>0</td>\n",
       "      <td>100</td>\n",
       "      <td>100</td>\n",
       "    </tr>\n",
       "    <tr>\n",
       "      <th>2021-03-26</th>\n",
       "      <td>0</td>\n",
       "      <td>100</td>\n",
       "      <td>100</td>\n",
       "    </tr>\n",
       "    <tr>\n",
       "      <th>2021-03-29</th>\n",
       "      <td>0</td>\n",
       "      <td>100</td>\n",
       "      <td>100</td>\n",
       "    </tr>\n",
       "    <tr>\n",
       "      <th>2021-03-30</th>\n",
       "      <td>0</td>\n",
       "      <td>100</td>\n",
       "      <td>100</td>\n",
       "    </tr>\n",
       "  </tbody>\n",
       "</table>\n",
       "</div>"
      ],
      "text/plain": [
       "            AMC   GME  SNDL\n",
       "date                       \n",
       "2021-01-19    0   100   100\n",
       "2021-01-20    0   100   100\n",
       "2021-01-21    0   100   100\n",
       "2021-01-22    0   100   100\n",
       "2021-01-25    0   100   100\n",
       "2021-01-26    0 -5100 -5100\n",
       "2021-01-27    0     0     0\n",
       "2021-01-28    0   100   100\n",
       "2021-01-29    0   100   100\n",
       "2021-02-01    0   100   100\n",
       "2021-02-02    0   100   100\n",
       "2021-02-03    0   100   100\n",
       "2021-02-04    0   100   100\n",
       "2021-02-05    0   100   100\n",
       "2021-02-08    0   100   100\n",
       "2021-02-09    0   100   100\n",
       "2021-02-10    0   100   100\n",
       "2021-02-11    0   100   100\n",
       "2021-02-12    0   100   100\n",
       "2021-02-16    0   100   100\n",
       "2021-02-17    0   100   100\n",
       "2021-02-18    0   100   100\n",
       "2021-02-19    0   100   100\n",
       "2021-02-22    0   100   100\n",
       "2021-02-23    0   100   100\n",
       "2021-02-24    0   100   100\n",
       "2021-02-25    0   100   100\n",
       "2021-02-26    0   100   100\n",
       "2021-03-01    0   100   100\n",
       "2021-03-02    0   100   100\n",
       "2021-03-03    0   100   100\n",
       "2021-03-04    0   100   100\n",
       "2021-03-05    0   100   100\n",
       "2021-03-08    0   100   100\n",
       "2021-03-09    0   100   100\n",
       "2021-03-10    0   100   100\n",
       "2021-03-11    0   100   100\n",
       "2021-03-12    0   100   100\n",
       "2021-03-15    0   100   100\n",
       "2021-03-16    0   100   100\n",
       "2021-03-17    0   100   100\n",
       "2021-03-18    0   100   100\n",
       "2021-03-19    0   100   100\n",
       "2021-03-22    0   100   100\n",
       "2021-03-23    0   100   100\n",
       "2021-03-24    0   100   100\n",
       "2021-03-25    0   100   100\n",
       "2021-03-26    0   100   100\n",
       "2021-03-29    0   100   100\n",
       "2021-03-30    0   100   100"
      ]
     },
     "execution_count": 50,
     "metadata": {},
     "output_type": "execute_result"
    }
   ],
   "source": [
    "df_actions.tail(50)"
   ]
  },
  {
   "cell_type": "code",
   "execution_count": 51,
   "metadata": {
    "colab": {
     "base_uri": "https://localhost:8080/"
    },
    "id": "Nzkr9yv-AdV_",
    "outputId": "bd56925d-7d32-479a-da1f-8606dff1b0f8"
   },
   "outputs": [
    {
     "name": "stdout",
     "output_type": "stream",
     "text": [
      "==============Get Backtest Results===========\n",
      "Annual return          0.347765\n",
      "Cumulative returns     0.954870\n",
      "Annual volatility      0.299900\n",
      "Sharpe ratio           1.137298\n",
      "Calmar ratio           1.503068\n",
      "Stability              0.247607\n",
      "Max drawdown          -0.231370\n",
      "Omega ratio            1.505628\n",
      "Sortino ratio          2.571673\n",
      "Skew                        NaN\n",
      "Kurtosis                    NaN\n",
      "Tail ratio             1.478316\n",
      "Daily value at risk   -0.036430\n",
      "dtype: float64\n"
     ]
    }
   ],
   "source": [
    "print(\"==============Get Backtest Results===========\")\n",
    "now = datetime.datetime.now().strftime('%Y%m%d-%Hh%M')\n",
    "\n",
    "perf_stats_all = backtest_stats(account_value=df_account_value)\n",
    "perf_stats_all = pd.DataFrame(perf_stats_all)\n",
    "perf_stats_all.to_csv(\"./\"+config.RESULTS_DIR+\"/perf_stats_all_\"+now+'.csv')"
   ]
  },
  {
   "cell_type": "code",
   "execution_count": 52,
   "metadata": {
    "colab": {
     "base_uri": "https://localhost:8080/"
    },
    "id": "QkV-LB66iwhD",
    "outputId": "061ac7da-3c70-4790-cd95-7627855bbe21"
   },
   "outputs": [
    {
     "name": "stdout",
     "output_type": "stream",
     "text": [
      "==============Get Baseline Stats===========\n",
      "[*********************100%***********************]  1 of 1 completed\n",
      "Shape of DataFrame:  (566, 8)\n",
      "Annual return          0.226849\n",
      "Cumulative returns     0.582806\n",
      "Annual volatility      0.250145\n",
      "Sharpe ratio           0.945021\n",
      "Calmar ratio           0.668679\n",
      "Stability              0.666080\n",
      "Max drawdown          -0.339250\n",
      "Omega ratio            1.221689\n",
      "Sortino ratio          1.306961\n",
      "Skew                        NaN\n",
      "Kurtosis                    NaN\n",
      "Tail ratio             0.719028\n",
      "Daily value at risk   -0.030577\n",
      "dtype: float64\n"
     ]
    }
   ],
   "source": [
    "#baseline stats\n",
    "print(\"==============Get Baseline Stats===========\")\n",
    "baseline_df = get_baseline(\n",
    "        ticker=\"^GSPC\", \n",
    "        start = '2019-01-01',\n",
    "        end = '2021-04-01')\n",
    "\n",
    "stats = backtest_stats(baseline_df, value_col_name = 'close')\n"
   ]
  },
  {
   "cell_type": "code",
   "execution_count": 53,
   "metadata": {
    "colab": {
     "base_uri": "https://localhost:8080/",
     "height": 1000
    },
    "id": "lKRGftSS7pNM",
    "outputId": "00deee41-f99f-4aaf-a389-e66315de1ff6",
    "scrolled": false
   },
   "outputs": [
    {
     "name": "stdout",
     "output_type": "stream",
     "text": [
      "==============Compare to S&P 500===========\n",
      "[*********************100%***********************]  1 of 1 completed\n",
      "Shape of DataFrame:  (566, 8)\n"
     ]
    },
    {
     "data": {
      "text/html": [
       "<table border=\"1\" class=\"dataframe\">\n",
       "  <thead>\n",
       "    <tr style=\"text-align: right;\"><th>Start date</th><td colspan=2>2019-01-02</td></tr>\n",
       "    <tr style=\"text-align: right;\"><th>End date</th><td colspan=2>2021-03-31</td></tr>\n",
       "    <tr style=\"text-align: right;\"><th>Total months</th><td colspan=2>26</td></tr>\n",
       "    <tr style=\"text-align: right;\">\n",
       "      <th></th>\n",
       "      <th>Backtest</th>\n",
       "    </tr>\n",
       "  </thead>\n",
       "  <tbody>\n",
       "    <tr>\n",
       "      <th>Annual return</th>\n",
       "      <td>34.777%</td>\n",
       "    </tr>\n",
       "    <tr>\n",
       "      <th>Cumulative returns</th>\n",
       "      <td>95.487%</td>\n",
       "    </tr>\n",
       "    <tr>\n",
       "      <th>Annual volatility</th>\n",
       "      <td>29.99%</td>\n",
       "    </tr>\n",
       "    <tr>\n",
       "      <th>Sharpe ratio</th>\n",
       "      <td>1.14</td>\n",
       "    </tr>\n",
       "    <tr>\n",
       "      <th>Calmar ratio</th>\n",
       "      <td>1.50</td>\n",
       "    </tr>\n",
       "    <tr>\n",
       "      <th>Stability</th>\n",
       "      <td>0.25</td>\n",
       "    </tr>\n",
       "    <tr>\n",
       "      <th>Max drawdown</th>\n",
       "      <td>-23.137%</td>\n",
       "    </tr>\n",
       "    <tr>\n",
       "      <th>Omega ratio</th>\n",
       "      <td>1.51</td>\n",
       "    </tr>\n",
       "    <tr>\n",
       "      <th>Sortino ratio</th>\n",
       "      <td>2.57</td>\n",
       "    </tr>\n",
       "    <tr>\n",
       "      <th>Skew</th>\n",
       "      <td>NaN</td>\n",
       "    </tr>\n",
       "    <tr>\n",
       "      <th>Kurtosis</th>\n",
       "      <td>NaN</td>\n",
       "    </tr>\n",
       "    <tr>\n",
       "      <th>Tail ratio</th>\n",
       "      <td>1.48</td>\n",
       "    </tr>\n",
       "    <tr>\n",
       "      <th>Daily value at risk</th>\n",
       "      <td>-3.643%</td>\n",
       "    </tr>\n",
       "    <tr>\n",
       "      <th>Alpha</th>\n",
       "      <td>0.36</td>\n",
       "    </tr>\n",
       "    <tr>\n",
       "      <th>Beta</th>\n",
       "      <td>0.15</td>\n",
       "    </tr>\n",
       "  </tbody>\n",
       "</table>"
      ],
      "text/plain": [
       "<IPython.core.display.HTML object>"
      ]
     },
     "metadata": {},
     "output_type": "display_data"
    },
    {
     "data": {
      "text/html": [
       "<table border=\"1\" class=\"dataframe\">\n",
       "  <thead>\n",
       "    <tr style=\"text-align: right;\">\n",
       "      <th>Worst drawdown periods</th>\n",
       "      <th>Net drawdown in %</th>\n",
       "      <th>Peak date</th>\n",
       "      <th>Valley date</th>\n",
       "      <th>Recovery date</th>\n",
       "      <th>Duration</th>\n",
       "    </tr>\n",
       "  </thead>\n",
       "  <tbody>\n",
       "    <tr>\n",
       "      <th>0</th>\n",
       "      <td>23.14</td>\n",
       "      <td>2021-03-10</td>\n",
       "      <td>2021-03-24</td>\n",
       "      <td>NaT</td>\n",
       "      <td>NaN</td>\n",
       "    </tr>\n",
       "    <tr>\n",
       "      <th>1</th>\n",
       "      <td>16.47</td>\n",
       "      <td>2019-01-25</td>\n",
       "      <td>2020-04-03</td>\n",
       "      <td>2020-09-17</td>\n",
       "      <td>430</td>\n",
       "    </tr>\n",
       "    <tr>\n",
       "      <th>2</th>\n",
       "      <td>13.32</td>\n",
       "      <td>2020-10-23</td>\n",
       "      <td>2020-10-30</td>\n",
       "      <td>2021-01-21</td>\n",
       "      <td>65</td>\n",
       "    </tr>\n",
       "    <tr>\n",
       "      <th>3</th>\n",
       "      <td>5.52</td>\n",
       "      <td>2021-01-29</td>\n",
       "      <td>2021-02-19</td>\n",
       "      <td>2021-02-25</td>\n",
       "      <td>20</td>\n",
       "    </tr>\n",
       "    <tr>\n",
       "      <th>4</th>\n",
       "      <td>4.97</td>\n",
       "      <td>2020-10-08</td>\n",
       "      <td>2020-10-12</td>\n",
       "      <td>2020-10-15</td>\n",
       "      <td>6</td>\n",
       "    </tr>\n",
       "  </tbody>\n",
       "</table>"
      ],
      "text/plain": [
       "<IPython.core.display.HTML object>"
      ]
     },
     "metadata": {},
     "output_type": "display_data"
    },
    {
     "name": "stderr",
     "output_type": "stream",
     "text": [
      "/Users/alexandrubordanca/opt/anaconda3/lib/python3.7/site-packages/pandas/core/indexes/base.py:5277: FutureWarning: Indexing a timezone-aware DatetimeIndex with a timezone-naive datetime is deprecated and will raise KeyError in a future version.  Use a timezone-aware object instead.\n",
      "  start_slice, end_slice = self.slice_locs(start, end, step=step, kind=kind)\n"
     ]
    },
    {
     "data": {
      "text/html": [
       "<table border=\"1\" class=\"dataframe\">\n",
       "  <thead>\n",
       "    <tr style=\"text-align: right;\">\n",
       "      <th>Stress Events</th>\n",
       "      <th>mean</th>\n",
       "      <th>min</th>\n",
       "      <th>max</th>\n",
       "    </tr>\n",
       "  </thead>\n",
       "  <tbody>\n",
       "    <tr>\n",
       "      <th>New Normal</th>\n",
       "      <td>0.14%</td>\n",
       "      <td>-12.20%</td>\n",
       "      <td>26.29%</td>\n",
       "    </tr>\n",
       "  </tbody>\n",
       "</table>"
      ],
      "text/plain": [
       "<IPython.core.display.HTML object>"
      ]
     },
     "metadata": {},
     "output_type": "display_data"
    },
    {
     "name": "stderr",
     "output_type": "stream",
     "text": [
      "/Users/alexandrubordanca/opt/anaconda3/lib/python3.7/site-packages/pandas/core/indexes/base.py:5277: FutureWarning: Indexing a timezone-aware DatetimeIndex with a timezone-naive datetime is deprecated and will raise KeyError in a future version.  Use a timezone-aware object instead.\n",
      "  start_slice, end_slice = self.slice_locs(start, end, step=step, kind=kind)\n"
     ]
    },
    {
     "data": {
      "image/png": "[encoded data removed]",
      "text/plain": [
       "<Figure size 1008x5184 with 13 Axes>"
      ]
     },
     "metadata": {
      "needs_background": "light"
     },
     "output_type": "display_data"
    },
    {
     "data": {
      "image/png": "[encoded data removed]",
      "text/plain": [
       "<Figure size 1008x432 with 1 Axes>"
      ]
     },
     "metadata": {
      "needs_background": "light"
     },
     "output_type": "display_data"
    }
   ],
   "source": [
    "print(\"==============Compare to S&P 500===========\")\n",
    "%matplotlib inline\n",
    "# S&P 500: ^GSPC\n",
    "# Dow Jones Index: ^DJI\n",
    "# NASDAQ 100: ^NDX\n",
    "backtest_plot(df_account_value, \n",
    "             baseline_ticker = '^GSPC', \n",
    "             baseline_start = '2019-01-01',\n",
    "             baseline_end = '2021-04-01')"
   ]
  },
  {
   "cell_type": "code",
   "execution_count": null,
   "metadata": {
    "id": "BzBaE63H3RLc"
   },
   "outputs": [],
   "source": []
  }
 ],
 "metadata": {
  "colab": {
   "collapsed_sections": [
    "uijiWgkuh1jB",
    "MRiOtrywfAo1",
    "_gDkU-j-fCmZ",
    "3Zpv4S0-fDBv"
   ],
   "name": "FinRL_stock_trading_NeurIPS_2018.ipynb",
   "provenance": [],
   "toc_visible": true
  },
  "kernelspec": {
   "display_name": "Python 3",
   "language": "python",
   "name": "python3"
  },
  "language_info": {
   "codemirror_mode": {
    "name": "ipython",
    "version": 3
   },
   "file_extension": ".py",
   "mimetype": "text/x-python",
   "name": "python",
   "nbconvert_exporter": "python",
   "pygments_lexer": "ipython3",
   "version": "3.7.6"
  },
  "pycharm": {
   "stem_cell": {
    "cell_type": "raw",
    "metadata": {
     "collapsed": false
    },
    "source": []
   }
  }
 },
 "nbformat": 4,
 "nbformat_minor": 1
}
